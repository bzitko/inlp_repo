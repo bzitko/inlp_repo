{
 "cells": [
  {
   "cell_type": "code",
   "execution_count": null,
   "metadata": {},
   "outputs": [],
   "source": [
    "import os\n",
    "import requests\n",
    "\n",
    "name = \"opj_v02_test.py\"\n",
    "if not os.path.exists(name):\n",
    "    response = requests.get(f\"https://raw.githubusercontent.com/bzitko/inlp_repo/main/labs/opj_v02_osnove_obrade_teksta/{name}\")\n",
    "    with open(name, \"wb\") as fp:\n",
    "        fp.write(response.content)\n",
    "    response.close()\n",
    "    \n",
    "name = \"alan_ford_001_grupa_tnt.txt\"\n",
    "if not os.path.exists(name):\n",
    "    response = requests.get(f\"https://raw.githubusercontent.com/bzitko/inlp_repo/main/labs/opj_v02_osnove_obrade_teksta/{name}\")\n",
    "    with open(name, \"wb\") as fp:\n",
    "        fp.write(response.content)\n",
    "    response.close()\n"
   ]
  },
  {
   "cell_type": "code",
   "execution_count": null,
   "metadata": {},
   "outputs": [],
   "source": [
    "import re\n",
    "from opj_v02_test import *\n",
    "\n",
    "def read_file(filename):\n",
    "    return open(filename, \"r\", encoding=\"utf8\").read()"
   ]
  },
  {
   "cell_type": "markdown",
   "metadata": {},
   "source": [
    "# 2. Osnove obrade teksta\n",
    "\n",
    "## 2.1 Prebrojavanje uzorka\n",
    "\n",
    "Napravi funkciju **count_pattern()** po sljedećim ulaznim i izlaznim podacima\n",
    "* ulaz:\n",
    "    * **txt** tekst\n",
    "    * **pattern** regularni izraz\n",
    "* izlaz:\n",
    "    * broj odgovarajućih dijelova teksta po zadanom regularnom izrazu\n",
    "\n",
    "Na primjer: za tekst \"4 plus 31 jednako 5\" i regularni izraz r\"\\d+\" vraća 3"
   ]
  },
  {
   "cell_type": "code",
   "execution_count": null,
   "metadata": {},
   "outputs": [],
   "source": [
    "def count_pattern(txt, patten):\n",
    "    return\n",
    "\n",
    "# TEST\n",
    "TXT = \"\"\"\n",
    "Čujmo malo muzike! Tišina me odviše podsjeća na groblje! \n",
    "Hm... Beethoven! Mora da je to neki popkauntor. \n",
    "Da čujemo što mladac zna! Prokleta lopužo! Ili sviraj ili vrati novac! \n",
    "Ta moderna muzika zaista je ispunjena elektricitetom.\n",
    "Gotovo, mister. Želite li još nešto? Malo masaže ne bi štetilo. \n",
    "I ovako se sviđam ženama, ali nikad nije na odmet... \n",
    "Sklopite oči! Naočale pomažu, ali svjetlost će biti snažna pa je bolje da žmirite... \n",
    "Hm! Namjestio sam automat na 45 sekunda! \n",
    "A sad... Hm... Čini se da treba nešto izmijeniti na automatu! Učinit ću to još danas!\n",
    "\"\"\".strip()\n",
    "\n",
    "testname(count_pattern)\n",
    "test(count_pattern, (TXT, r'a'), 53)\n",
    "test(count_pattern, (TXT, r'[^a]'), 512)\n",
    "test(count_pattern, (TXT, r'\\S+'), 94)\n",
    "test(count_pattern, (TXT, r'\\w+'), 94)\n",
    "test(count_pattern, (TXT, r'oš'), 2)\n",
    "test(count_pattern, (TXT, r'al'), 5)\n",
    "test(count_pattern, (TXT, r'oš|al'), 7)"
   ]
  },
  {
   "cell_type": "markdown",
   "metadata": {},
   "source": [
    "## 2.2 Pronalaženje uzorka\n",
    "\n",
    "Napravi funkciju **match_pattern()** po sljedećim ulaznim i izlaznim podacima\n",
    "* ulaz:\n",
    "    * **txt** tekst\n",
    "    * **pattern** regularni izraz\n",
    "* izlaz:\n",
    "    * lista odgovarajućih dijelova teksta po zadanom regularnom izrazu\n",
    "    \n",
    "Na primjer, za tekst \"4 plus 31 jednako 5\" i regularni izraz r\"\\d+\" vraća listu svih nizova brojčanih znakova ['4', '31', '5'] kako se pojavljuju u tekstu."
   ]
  },
  {
   "cell_type": "code",
   "execution_count": null,
   "metadata": {},
   "outputs": [],
   "source": [
    "def match_pattern(txt, pattern):\n",
    "    return\n",
    "\n",
    "# TEST\n",
    "TXT = \"\"\"\n",
    "Čujmo malo muzike! Tišina me odviše podsjeća na groblje! \n",
    "Hm... Beethoven! Mora da je to neki popkauntor. \n",
    "Da čujemo što mladac zna! Prokleta lopužo! Ili sviraj ili vrati novac! \n",
    "Ta moderna muzika zaista je ispunjena elektricitetom.\n",
    "Gotovo, mister. Želite li još nešto? Malo masaže ne bi štetilo. \n",
    "I ovako se sviđam ženama, ali nikad nije na odmet... \n",
    "Sklopite oči! Naočale pomažu, ali svjetlost će biti snažna pa je bolje da žmirite... \n",
    "Hm! Namjestio sam automat na 45 sekunda! \n",
    "A sad... Hm... Čini se da treba nešto izmijeniti na automatu! Učinit ću to još danas!\n",
    "\"\"\".strip()\n",
    "\n",
    "testname(match_pattern)\n",
    "test(match_pattern, (TXT, r'oš|al'), ['al', 'oš', 'al', 'al', 'al', 'al', 'oš'])\n",
    "test(match_pattern, (TXT, r'\\bo\\w+'), ['odviše', 'ovako', 'odmet', 'oči'])\n",
    "test(match_pattern, ('b**2-49ac', r'\\d'), ['2','4','9'])\n",
    "test(match_pattern, ('b**2-49ac', r'\\d*'), ['', '', '', '2', '', '49', '', '', ''])\n",
    "test(match_pattern, ('b**2-49ac', r'\\d+'), ['2', '49'])"
   ]
  },
  {
   "cell_type": "markdown",
   "metadata": {},
   "source": [
    "## 2.3 Razbijajnje teksta\n",
    "\n",
    "Napravi funkciju **split_pattern()** po sljedećim ulaznim i izlaznim podacima\n",
    "* ulaz:\n",
    "    * **txt** tekst\n",
    "    * **pattern** regularni izraz\n",
    "* izlaz:\n",
    "    * lista odgovarajućih djelova teksta po regularnom izrazu\n",
    "    \n",
    "Na primjer, za tekst \"4 plus 31 jednako 5\" i regularni izraz r\"\\d+\" vraća listu svih nizova koji ne odgovaraju regularnom izrazu odnosno [' plus ', ' jednako ']"
   ]
  },
  {
   "cell_type": "code",
   "execution_count": null,
   "metadata": {},
   "outputs": [],
   "source": [
    "def split_pattern(txt, pattern):\n",
    "    return\n",
    "\n",
    "# TEST\n",
    "testname(split_pattern)\n",
    "test(split_pattern, ('b**2-49ac', '\\d+'), ['b**', '-', 'ac'])\n",
    "test(split_pattern, ('b**2-49ac', '\\D+'), ['', '2', '49', ''])"
   ]
  },
  {
   "cell_type": "markdown",
   "metadata": {},
   "source": [
    "## 2.4 Prebrojavanje novih redova\n",
    "\n",
    "Napravi funkciju **cnt_newline()** po sljedećim ulaznim i izlaznim podacima\n",
    "* ulaz\n",
    "    * **txt** tekst\n",
    "* izlaz\n",
    "    * ukupan broj pojavljivanja novog reda u tekstu\n",
    "    "
   ]
  },
  {
   "cell_type": "code",
   "execution_count": null,
   "metadata": {},
   "outputs": [],
   "source": [
    "def cnt_newline(txt):\n",
    "    return\n",
    "\n",
    "# TEST\n",
    "TXT = \"\"\"\n",
    "Čujmo malo muzike! Tišina me odviše podsjeća na groblje! \n",
    "Hm... Beethoven! Mora da je to neki popkauntor. \n",
    "Da čujemo što mladac zna! Prokleta lopužo! Ili sviraj ili vrati novac! \n",
    "Ta moderna muzika zaista je ispunjena elektricitetom.\n",
    "Gotovo, mister. Želite li još nešto? Malo masaže ne bi štetilo. \n",
    "I ovako se sviđam ženama, ali nikad nije na odmet... \n",
    "Sklopite oči! Naočale pomažu, ali svjetlost će biti snažna pa je bolje da žmirite... \n",
    "Hm! Namjestio sam automat na 45 sekunda! \n",
    "A sad... Hm... Čini se da treba nešto izmijeniti na automatu! Učinit ću to još danas!\n",
    "\"\"\".strip()\n",
    "\n",
    "testname(cnt_newline)\n",
    "test(cnt_newline, (TXT, ), 8)\n",
    "test(cnt_newline, (read_file(\"alan_ford_001_grupa_tnt.txt\"), ), 44)"
   ]
  },
  {
   "cell_type": "markdown",
   "metadata": {},
   "source": [
    "## 2.5 Pronalaženje riječi koje imaju prvo slovo veliko\n",
    "\n",
    "Napravi funkciju **mtch_upper_word()** po sljedećim ulaznim i izlaznim podacima\n",
    "* ulaz\n",
    "    * **txt** tekst\n",
    "* izlaz\n",
    "    * lista riječi koje počinju s velikim slovom\n",
    "    "
   ]
  },
  {
   "cell_type": "code",
   "execution_count": null,
   "metadata": {},
   "outputs": [],
   "source": [
    "def mtch_upper_word(txt):\n",
    "    return\n",
    "\n",
    "# TEST\n",
    "TXT = \"\"\"\n",
    "Čujmo malo muzike! Tišina me odviše podsjeća na groblje! \n",
    "Hm... Beethoven! Mora da je to neki popkauntor. \n",
    "Da čujemo što mladac zna! Prokleta lopužo! Ili sviraj ili vrati novac! \n",
    "Ta moderna muzika zaista je ispunjena elektricitetom.\n",
    "Gotovo, mister. Želite li još nešto? Malo masaže ne bi štetilo. \n",
    "I ovako se sviđam ženama, ali nikad nije na odmet... \n",
    "Sklopite oči! Naočale pomažu, ali svjetlost će biti snažna pa je bolje da žmirite... \n",
    "Hm! Namjestio sam automat na 45 sekunda! \n",
    "A sad... Hm... Čini se da treba nešto izmijeniti na automatu! Učinit ću to još danas!\n",
    "\"\"\".strip()\n",
    "\n",
    "testname(mtch_upper_word)\n",
    "test(mtch_upper_word, ('A AA bba, Bcd, cDD Šđđ Žeđ',), ['A', 'AA', 'Bcd', 'Šđđ', 'Žeđ'])\n",
    "test(mtch_upper_word, (TXT, ), ['Čujmo', 'Tišina', 'Hm', 'Beethoven', 'Mora', 'Da', 'Prokleta', \n",
    "                                'Ili', 'Ta', 'Gotovo', 'Želite', 'Malo', 'I', 'Sklopite', \n",
    "                                'Naočale', 'Hm', 'Namjestio', 'A', 'Hm', 'Čini', 'Učinit'])"
   ]
  },
  {
   "cell_type": "markdown",
   "metadata": {},
   "source": [
    "## 2.6 Pronalaženje riječi sadrže zadani podtekst\n",
    "\n",
    "Napravi funkciju **mtch_infix()** po sljedećim ulaznim i izlaznim podacima\n",
    "* ulaz\n",
    "    * **txt** tekst\n",
    "    * **infix** podtekst po kojem se pretražuje\n",
    "* izlaz\n",
    "    * lista riječi koje sadrže zadani podtekst\n",
    "    "
   ]
  },
  {
   "cell_type": "code",
   "execution_count": null,
   "metadata": {},
   "outputs": [],
   "source": [
    "def mtch_infix(txt, infix):\n",
    "    return\n",
    "\n",
    "# TEST\n",
    "TXT = \"\"\"\n",
    "Čujmo malo muzike! Tišina me odviše podsjeća na groblje! \n",
    "Hm... Beethoven! Mora da je to neki popkauntor. \n",
    "Da čujemo što mladac zna! Prokleta lopužo! Ili sviraj ili vrati novac! \n",
    "Ta moderna muzika zaista je ispunjena elektricitetom.\n",
    "Gotovo, mister. Želite li još nešto? Malo masaže ne bi štetilo. \n",
    "I ovako se sviđam ženama, ali nikad nije na odmet... \n",
    "Sklopite oči! Naočale pomažu, ali svjetlost će biti snažna pa je bolje da žmirite... \n",
    "Hm! Namjestio sam automat na 45 sekunda! \n",
    "A sad... Hm... Čini se da treba nešto izmijeniti na automatu! Učinit ću to još danas!\n",
    "\"\"\".strip()\n",
    "\n",
    "testname(mtch_infix)\n",
    "test(mtch_infix, (TXT, 'ma'), \n",
    "     ['malo', 'masaže', 'ženama', 'pomažu', 'automat', 'automatu'])\n",
    "test(mtch_infix, (read_file(\"alan_ford_001_grupa_tnt.txt\"), 'oba'), \n",
    "     ['isprobati', 'dobar', 'neobavljena', 'soba', 'osoba', 'obavijest', 'sposoban', 'dobar'])"
   ]
  },
  {
   "cell_type": "code",
   "execution_count": null,
   "metadata": {},
   "outputs": [],
   "source": []
  }
 ],
 "metadata": {
  "kernelspec": {
   "display_name": "Python 3 (ipykernel)",
   "language": "python",
   "name": "python3"
  },
  "language_info": {
   "codemirror_mode": {
    "name": "ipython",
    "version": 3
   },
   "file_extension": ".py",
   "mimetype": "text/x-python",
   "name": "python",
   "nbconvert_exporter": "python",
   "pygments_lexer": "ipython3",
   "version": "3.8.12"
  }
 },
 "nbformat": 4,
 "nbformat_minor": 1
}
