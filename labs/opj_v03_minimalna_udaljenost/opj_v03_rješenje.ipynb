{
 "cells": [
  {
   "cell_type": "markdown",
   "metadata": {},
   "source": [
    "# Rad s matricama - numpy\n",
    "\n",
    "numpy je Python-ov modul za rad s matricama."
   ]
  },
  {
   "cell_type": "code",
   "execution_count": 1,
   "metadata": {},
   "outputs": [],
   "source": [
    "import numpy as np"
   ]
  },
  {
   "cell_type": "markdown",
   "metadata": {},
   "source": [
    "** Stvaranje vektora i matrice **"
   ]
  },
  {
   "cell_type": "code",
   "execution_count": 2,
   "metadata": {},
   "outputs": [
    {
     "data": {
      "text/plain": [
       "array([1, 2, 3])"
      ]
     },
     "execution_count": 2,
     "metadata": {},
     "output_type": "execute_result"
    }
   ],
   "source": [
    "y = np.array([1, 2, 3])\n",
    "y"
   ]
  },
  {
   "cell_type": "code",
   "execution_count": 3,
   "metadata": {},
   "outputs": [
    {
     "data": {
      "text/plain": [
       "array([[1, 2, 3],\n",
       "       [4, 5, 6]])"
      ]
     },
     "execution_count": 3,
     "metadata": {},
     "output_type": "execute_result"
    }
   ],
   "source": [
    "x = np.array([[1, 2, 3], \n",
    "              [4, 5, 6]])\n",
    "x"
   ]
  },
  {
   "cell_type": "markdown",
   "metadata": {},
   "source": [
    "** Dimenzija vektora i matrice **"
   ]
  },
  {
   "cell_type": "code",
   "execution_count": 4,
   "metadata": {},
   "outputs": [
    {
     "data": {
      "text/plain": [
       "(3,)"
      ]
     },
     "execution_count": 4,
     "metadata": {},
     "output_type": "execute_result"
    }
   ],
   "source": [
    "y.shape"
   ]
  },
  {
   "cell_type": "code",
   "execution_count": 5,
   "metadata": {},
   "outputs": [
    {
     "data": {
      "text/plain": [
       "(2, 3)"
      ]
     },
     "execution_count": 5,
     "metadata": {},
     "output_type": "execute_result"
    }
   ],
   "source": [
    "x.shape"
   ]
  },
  {
   "cell_type": "markdown",
   "metadata": {},
   "source": [
    "** Postavljanje vrijednosti **"
   ]
  },
  {
   "cell_type": "code",
   "execution_count": 6,
   "metadata": {},
   "outputs": [
    {
     "data": {
      "text/plain": [
       "array([  1,   2, 100])"
      ]
     },
     "execution_count": 6,
     "metadata": {},
     "output_type": "execute_result"
    }
   ],
   "source": [
    "y[2] = 100\n",
    "y"
   ]
  },
  {
   "cell_type": "code",
   "execution_count": 7,
   "metadata": {},
   "outputs": [
    {
     "data": {
      "text/plain": [
       "array([[  1,   2,   3],\n",
       "       [100,   5,   6]])"
      ]
     },
     "execution_count": 7,
     "metadata": {},
     "output_type": "execute_result"
    }
   ],
   "source": [
    "x[1, 0] = 100\n",
    "x"
   ]
  },
  {
   "cell_type": "markdown",
   "metadata": {},
   "source": [
    "** Stvaranje nul matrice **"
   ]
  },
  {
   "cell_type": "code",
   "execution_count": 8,
   "metadata": {},
   "outputs": [
    {
     "data": {
      "text/plain": [
       "array([[0., 0., 0., 0.],\n",
       "       [0., 0., 0., 0.],\n",
       "       [0., 0., 0., 0.]])"
      ]
     },
     "execution_count": 8,
     "metadata": {},
     "output_type": "execute_result"
    }
   ],
   "source": [
    "np.zeros((3, 4))"
   ]
  },
  {
   "cell_type": "code",
   "execution_count": 9,
   "metadata": {},
   "outputs": [
    {
     "data": {
      "text/plain": [
       "array([[0, 0, 0, 0],\n",
       "       [0, 0, 0, 0],\n",
       "       [0, 0, 0, 0]])"
      ]
     },
     "execution_count": 9,
     "metadata": {},
     "output_type": "execute_result"
    }
   ],
   "source": [
    "np.zeros((3, 4), dtype=int)"
   ]
  },
  {
   "cell_type": "markdown",
   "metadata": {},
   "source": [
    "# 3. Minimalna udaljenost\n",
    "\n",
    "## 3.1. Matrica udaljenosti\n",
    "\n",
    "Napravi funkciju ** edit_dist_mx() ** po sljedećim ulaznim i izlaznim podacima\n",
    "* ulaz:\n",
    "    * ** s1 ** tekst\n",
    "    * ** s2 ** tekst\n",
    "* izlaz:\n",
    "    * matrica udaljenosti između s1 i s2\n",
    "    \n",
    "Na primjer, matrica udaljenosti za s1 = \"nos\" i s2 = \"noj\" je\n",
    "\n",
    "    [[0, 1, 2, 3],  \n",
    "     [1, 0, 1, 2],  \n",
    "     [2, 1, 0, 1],  \n",
    "     [3, 2, 1, 2]]\n",
    "\n",
    "Odnosno \n",
    "\n",
    "         #\tn\to\tj  \n",
    "    #\t0\t1\t2\t3  \n",
    "    n\t1\t0\t1\t2  \n",
    "    o\t2\t1\t0\t1  \n",
    "    s\t3\t2\t1\t2  "
   ]
  },
  {
   "cell_type": "code",
   "execution_count": 10,
   "metadata": {},
   "outputs": [
    {
     "name": "stdout",
     "output_type": "stream",
     "text": [
      "\n",
      "EDIT_DIST\n",
      "------------------------------------------------------------\n",
      "OK\tudaljenost između 'nos' i 'noj' je 2\n",
      " \t#\tn\to\tj\n",
      "#\t0\t1\t2\t3\n",
      "n\t1\t0\t1\t2\n",
      "o\t2\t1\t0\t1\n",
      "s\t3\t2\t1\t2\n",
      "\n",
      "\n",
      "OK\tudaljenost između 'osa' i 'bosa' je 1\n",
      " \t#\tb\to\ts\ta\n",
      "#\t0\t1\t2\t3\t4\n",
      "o\t1\t2\t1\t2\t3\n",
      "s\t2\t3\t2\t1\t2\n",
      "a\t3\t4\t3\t2\t1\n",
      "\n",
      "\n",
      "OK\tudaljenost između 'bosa' i 'osa' je 1\n",
      " \t#\to\ts\ta\n",
      "#\t0\t1\t2\t3\n",
      "b\t1\t2\t3\t4\n",
      "o\t2\t1\t2\t3\n",
      "s\t3\t2\t1\t2\n",
      "a\t4\t3\t2\t1\n",
      "\n",
      "\n",
      "OK\tudaljenost između 'paliti' i 'piti' je 2\n",
      " \t#\tp\ti\tt\ti\n",
      "#\t0\t1\t2\t3\t4\n",
      "p\t1\t0\t1\t2\t3\n",
      "a\t2\t1\t2\t3\t4\n",
      "l\t3\t2\t3\t4\t5\n",
      "i\t4\t3\t2\t3\t4\n",
      "t\t5\t4\t3\t2\t3\n",
      "i\t6\t5\t4\t3\t2\n",
      "\n",
      "\n",
      "OK\tudaljenost između 'paliti' i 'pisati' je 4\n",
      " \t#\tp\ti\ts\ta\tt\ti\n",
      "#\t0\t1\t2\t3\t4\t5\t6\n",
      "p\t1\t0\t1\t2\t3\t4\t5\n",
      "a\t2\t1\t2\t3\t2\t3\t4\n",
      "l\t3\t2\t3\t4\t3\t4\t5\n",
      "i\t4\t3\t2\t3\t4\t5\t4\n",
      "t\t5\t4\t3\t4\t5\t4\t5\n",
      "i\t6\t5\t4\t5\t6\t5\t4\n",
      "\n",
      "\n"
     ]
    }
   ],
   "source": [
    "from opj_v03_test import *\n",
    "\n",
    "def edit_dist_mx(s1, s2):\n",
    "    n, m = len(s1), len(s2)\n",
    "    mx = np.zeros((n + 1, m + 1), dtype=int)\n",
    "\n",
    "    for i in range(n + 1):\n",
    "        mx[i, 0] = i\n",
    "    for j in range(m + 1):\n",
    "        mx[0, j] = j\n",
    "\n",
    "    for i in range(1, n + 1):\n",
    "        for j in range(1, m + 1):\n",
    "            mx[i, j] = min(\n",
    "                mx[i - 1, j] + 1,\n",
    "                mx[i, j - 1] + 1,\n",
    "                mx[i - 1, j - 1] + (2 if s1[i - 1] != s2[j - 1] else 0)\n",
    "            )\n",
    "\n",
    "    return mx\n",
    "\n",
    "\n",
    "def edit_dist(s1, s2):\n",
    "    return edit_dist_mx(s1, s2)[-1, -1]\n",
    "    \n",
    "\n",
    "testname(edit_dist)\n",
    "test_dist(edit_dist_mx, edit_dist, ('nos','noj'), ([[0, 1, 2, 3], \n",
    "                                                    [1, 0, 1, 2], \n",
    "                                                    [2, 1, 0, 1], \n",
    "                                                    [3, 2, 1, 2]], 2))\n",
    "test_dist(edit_dist_mx, edit_dist, ('osa','bosa'), ([[0, 1, 2, 3, 4], \n",
    "                                                     [1, 2, 1, 2, 3], \n",
    "                                                     [2, 3, 2, 1, 2], \n",
    "                                                     [3, 4, 3, 2, 1]], 1))\n",
    "test_dist(edit_dist_mx, edit_dist, ('bosa','osa'), ([[0, 1, 2, 3], \n",
    "                                                     [1, 2, 3, 4], \n",
    "                                                     [2, 1, 2, 3], \n",
    "                                                     [3, 2, 1, 2], \n",
    "                                                     [4, 3, 2, 1]], 1))\n",
    "test_dist(edit_dist_mx, edit_dist, ('paliti','piti'), ([[0, 1, 2, 3, 4], \n",
    "                                                        [1, 0, 1, 2, 3], \n",
    "                                                        [2, 1, 2, 3, 4], \n",
    "                                                        [3, 2, 3, 4, 5], \n",
    "                                                        [4, 3, 2, 3, 4], \n",
    "                                                        [5, 4, 3, 2, 3], \n",
    "                                                        [6, 5, 4, 3, 2]], 2))\n",
    "test_dist(edit_dist_mx, edit_dist, ('paliti','pisati'), ([[0, 1, 2, 3, 4, 5, 6], \n",
    "                                                          [1, 0, 1, 2, 3, 4, 5], \n",
    "                                                          [2, 1, 2, 3, 2, 3, 4], \n",
    "                                                          [3, 2, 3, 4, 3, 4, 5], \n",
    "                                                          [4, 3, 2, 3, 4, 5, 4], \n",
    "                                                          [5, 4, 3, 4, 5, 4, 5], \n",
    "                                                          [6, 5, 4, 5, 6, 5, 4]], 4))"
   ]
  },
  {
   "cell_type": "markdown",
   "metadata": {
    "collapsed": true
   },
   "source": [
    "Napravi funkciju ** align() ** po sljedećim ulaznim i izlaznim podacima\n",
    "* ulaz:\n",
    "    * ** s1 ** tekst\n",
    "    * ** s2 ** tekst\n",
    "* izlaz:\n",
    "    * Uređeni par ** (as1, as2) ** gdje je as1 poravnanje od s1, a as2 poravnanje od s2 (prilikom poravnanja koristiti \"-\")\n",
    "    \n",
    "NAPOMENA: poravnanje (izbor operacije) napraviti po sljedećim prioritetima:\n",
    "1. zamjena\n",
    "2. brisanje\n",
    "3. ubacivanje\n",
    "    \n",
    "Primjer, poravnanje od 'paliti' i 'pisati':\n",
    "\n",
    "    p--aliti  \n",
    "    pisa--ti\n"
   ]
  },
  {
   "cell_type": "code",
   "execution_count": 11,
   "metadata": {},
   "outputs": [
    {
     "name": "stdout",
     "output_type": "stream",
     "text": [
      "\n",
      "ALIGN\n",
      "------------------------------------------------------------\n",
      "OK\tporavnanje od 'nos' i 'noj':\n",
      "nos\n",
      "noj\n",
      "\n",
      "OK\tporavnanje od 'osa' i 'bosa':\n",
      "-osa\n",
      "bosa\n",
      "\n",
      "OK\tporavnanje od 'bosa' i 'osa':\n",
      "bosa\n",
      "-osa\n",
      "\n",
      "OK\tporavnanje od 'paliti' i 'piti':\n",
      "paliti\n",
      "p--iti\n",
      "\n",
      "OK\tporavnanje od 'paliti' i 'pisati':\n",
      "p--aliti\n",
      "pisa--ti\n",
      "\n",
      "OK\tporavnanje od 'tradicija' i 'dedukcija':\n",
      "trad-icija\n",
      "-dedukcija\n",
      "\n"
     ]
    }
   ],
   "source": [
    "def align(S, T):\n",
    "    D = edit_dist_mx(S, T)\n",
    "\n",
    "    m, n = len(S), len(T)\n",
    "    i, j = m, n\n",
    "    seq = \"\"\n",
    "    as1, as2 = \"\", \"\"\n",
    "    while (i, j) != (0, 0):\n",
    "        if i > 0 and j > 0 and D[i, j] == D[i - 1, j - 1] and S[i - 1] == T[j - 1]:\n",
    "            seq += \"o\"\n",
    "            as1 += S[i - 1]\n",
    "            as2 += T[j - 1]\n",
    "            i -= 1\n",
    "            j -= 1    \n",
    "        elif i > 0 and j > 0 and D[i, j] == D[i - 1, j - 1] + 2 and S[i - 1] != T[j - 1]:\n",
    "            seq += \"z\"\n",
    "            as1 += S[i - 1]\n",
    "            as2 += T[j - 1]\n",
    "            i -= 1\n",
    "            j -= 1\n",
    "        elif j == 0 or D[i, j] == D[i - 1, j] + 1:\n",
    "            seq += \"b\"\n",
    "            as1 += S[i - 1]\n",
    "            as2 += \"-\"            \n",
    "            i -= 1\n",
    "        elif i == 0 or D[i, j] == D[i, j - 1] + 1:\n",
    "            seq += \"u\"\n",
    "            as1 += \"-\"\n",
    "            as2 += T[j - 1]\n",
    "            j -= 1\n",
    "    return \"\".join(reversed(as1)), \"\".join(reversed(as2))\n",
    "\n",
    "testname(align)\n",
    "test_alignment(align, ('nos','noj'), {('no-s', 'noj-'), ('nos-', 'no-j'), ('nos', 'noj')})\n",
    "test_alignment(align, ('osa','bosa'), ('-osa', 'bosa'))\n",
    "test_alignment(align, ('bosa','osa'), ('bosa', '-osa'))\n",
    "test_alignment(align, ('paliti','piti'), ('paliti', 'p--iti'))\n",
    "test_alignment(align, ('paliti','pisati'), {('pali--ti', 'p--isati'), ('p--aliti', 'pisa--ti')})\n",
    "test_alignment(align, ('tradicija', 'dedukcija'), {('tra-di--cija', '-d-ed-ukcija'), ('-trad--icija', 'de--duk-cija'), ('trad--icija', 'de-duk-cija'), ('tra-d--icija', '-d-eduk-cija'), ('t--rad--icija', '-de--duk-cija'), ('tr-adi-cija', '-de-dukcija'), ('-tradi-cija', 'de--dukcija'), ('tr-a-d-icija', '--d-edukcija'), ('tra-d-icija', '-d-edukcija'), ('trad-icija', '-dedukcija'), ('--trad-icija', 'de---dukcija'), ('tradi-cija', 'de-dukcija'), ('trad--i-cija', '---dedukcija'), ('tr-ad-i-cija', '-de-du-kcija'), ('tra--di-cija', '---dedukcija'), ('t--radi-cija', '-de--dukcija'), ('trad--icija', '-deduk-cija'), ('t-ra-di--cija', '-d--ed-ukcija'), ('-tradi-cija', 'd--edukcija'), ('tra-d--icija', 'd--eduk-cija'), ('t-radi--cija', '-d-ed-ukcija'), ('t-rad--icija', '-d-eduk-cija'), ('tr-ad-i-cija', 'd-e-du-kcija'), ('tra--d-icija', '---dedukcija'), ('tradi--cija', 'd-ed-ukcija'), ('t-ra-d-icija', '-d--edukcija'), ('tra-d-icija', 'd--edukcija'), ('t-rad--icija', 'de--duk-cija'), ('t--rad-icija', '-de--dukcija'), ('t-ra-di-cija', '-d--edukcija'), ('tr-ad--icija', 'd-e-duk-cija'), ('-tradi-cija', 'd-e-dukcija'), ('-trad--icija', 'd--eduk-cija'), ('tr-adi-cija', '--dedukcija'), ('tr-adi--cija', '--ded-ukcija'), ('tr-a-d--icija', '--d-eduk-cija'), ('-tr-ad-icija', 'd--e-dukcija'), ('-tr-ad-i-cija', 'd--e-du-kcija'), ('tradi--cija', 'de-d-ukcija'), ('tra-d-icija', '--dedukcija'), ('tr--adi-cija', '--de-dukcija'), ('tr-ad-i-cija', '--dedu-kcija'), ('tra--d--icija', '---deduk-cija'), ('-tra-d--icija', 'd---eduk-cija'), ('tra-di-cija', '-d-edukcija'), ('-tradi--cija', 'd--ed-ukcija'), ('t-r-ad-i-cija', '-d-e-du-kcija'), ('tra-d-i-cija', '-d-edu-kcija'), ('-trad-i-cija', 'd-e-du-kcija'), ('tradi---cija', '---dedukcija'), ('tr-adi-cija', 'd-e-dukcija'), ('-trad-icija', 'de--dukcija'), ('-t-rad-icija', 'd-e--dukcija'), ('tr-adi--cija', '-de-d-ukcija'), ('-t-radi-cija', 'd-e--dukcija'), ('--trad--icija', 'de---duk-cija'), ('tr-a-d-i-cija', '--d-edu-kcija'), ('tr-ad-icija', '-de-dukcija'), ('tr--ad--icija', '--de-duk-cija'), ('-trad--icija', 'd-e-duk-cija'), ('-tr-ad--icija', 'd--e-duk-cija'), ('tr-ad--icija', '-de-duk-cija'), ('tradi-cija', '-dedukcija'), ('t-r-adi-cija', '-d-e-dukcija'), ('t-radi-cija', '-d-edukcija'), ('-tr-adi-cija', 'd--e-dukcija'), ('-trad-icija', 'd--edukcija'), ('--trad-i-cija', 'de---du-kcija'), ('t-rad-icija', '-de-dukcija'), ('t-radi-cija', 'de--dukcija'), ('t-rad-icija', '-d-edukcija'), ('tra-di--cija', 'd--ed-ukcija'), ('trad-icija', 'd-edukcija'), ('tra-di-cija', 'd--edukcija'), ('trad-i-cija', '-dedu-kcija'), ('tra-d-i-cija', '--dedu-kcija'), ('tr--ad-i-cija', '--de-du-kcija'), ('--tradi--cija', 'de---d-ukcija'), ('t-rad-i-cija', 'de--du-kcija'), ('-t-rad--icija', 'd-e--duk-cija'), ('-tra-di--cija', 'd---ed-ukcija'), ('t-ra-d--icija', '-d--eduk-cija'), ('-tradi--cija', 'de--d-ukcija'), ('t-rad--icija', '-de-duk-cija'), ('t-rad-icija', 'de--dukcija'), ('trad-i-cija', 'de-du-kcija'), ('tra-d--icija', '--deduk-cija'), ('tradi----cija', '---d-edukcija'), ('tra-di--cija', '--ded-ukcija'), ('tr-ad--icija', '--deduk-cija'), ('t-r-ad-icija', '-d-e-dukcija'), ('-trad-i-cija', 'd--edu-kcija'), ('tra-di-cija', '--dedukcija'), ('trad--i--cija', '---ded-ukcija'), ('t-ra-d-i-cija', '-d--edu-kcija'), ('-tr-adi--cija', 'd--e-d-ukcija'), ('t-radi--cija', 'de--d-ukcija'), ('tr-ad-icija', '--dedukcija'), ('trad-i-cija', 'd-edu-kcija'), ('-tra-d-i-cija', 'd---edu-kcija'), ('trad---icija', '---dedukcija'), ('-t-radi--cija', 'd-e--d-ukcija'), ('tr-adi--cija', 'd-e-d-ukcija'), ('t-radi-cija', '-de-dukcija'), ('tr-ad-icija', 'd-e-dukcija'), ('trad-icija', 'de-dukcija'), ('trad--icija', 'd-eduk-cija'), ('--tradi-cija', 'de---dukcija'), ('tr--ad-icija', '--de-dukcija'), ('tradi--cija', '-ded-ukcija'), ('t-rad-i-cija', '-de-du-kcija'), ('tr--adi--cija', '--de-d-ukcija'), ('trad----icija', '---deduk-cija'), ('-tra-di-cija', 'd---edukcija'), ('t-rad-i-cija', '-d-edu-kcija'), ('tr-a-di-cija', '--d-edukcija'), ('-tradi--cija', 'd-e-d-ukcija'), ('-trad-i-cija', 'de--du-kcija'), ('t--radi--cija', '-de--d-ukcija'), ('t-radi--cija', '-de-d-ukcija'), ('t-r-adi--cija', '-d-e-d-ukcija'), ('tra--d-i-cija', '---dedu-kcija'), ('-tra-d-icija', 'd---edukcija'), ('-trad-icija', 'd-e-dukcija'), ('tr-a-di--cija', '--d-ed-ukcija'), ('tradi-cija', 'd-edukcija'), ('t--rad-i-cija', '-de--du-kcija'), ('t-r-ad--icija', '-d-e-duk-cija'), ('trad-i--cija', '---dedukcija'), ('tra--di--cija', '---ded-ukcija'), ('tra-d-i-cija', 'd--edu-kcija'), ('-t-rad-i-cija', 'd-e--du-kcija'), ('trad---i-cija', '---dedu-kcija'), ('trad-i---cija', '---de-dukcija')})"
   ]
  },
  {
   "cell_type": "code",
   "execution_count": null,
   "metadata": {},
   "outputs": [],
   "source": []
  }
 ],
 "metadata": {
  "kernelspec": {
   "display_name": "Python 3 (ipykernel)",
   "language": "python",
   "name": "python3"
  },
  "language_info": {
   "codemirror_mode": {
    "name": "ipython",
    "version": 3
   },
   "file_extension": ".py",
   "mimetype": "text/x-python",
   "name": "python",
   "nbconvert_exporter": "python",
   "pygments_lexer": "ipython3",
   "version": "3.8.12"
  }
 },
 "nbformat": 4,
 "nbformat_minor": 1
}
