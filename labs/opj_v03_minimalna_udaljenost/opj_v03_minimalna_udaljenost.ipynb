{
 "cells": [
  {
   "cell_type": "markdown",
   "metadata": {},
   "source": [
    "# Rad s matricama - numpy\n",
    "\n",
    "numpy je Python-ov modul za rad s matricama."
   ]
  },
  {
   "cell_type": "code",
   "execution_count": null,
   "metadata": {},
   "outputs": [],
   "source": [
    "import numpy as np"
   ]
  },
  {
   "cell_type": "markdown",
   "metadata": {},
   "source": [
    "**Stvaranje vektora i matrice**"
   ]
  },
  {
   "cell_type": "code",
   "execution_count": null,
   "metadata": {},
   "outputs": [],
   "source": [
    "y = np.array([1, 2, 3])\n",
    "y"
   ]
  },
  {
   "cell_type": "code",
   "execution_count": null,
   "metadata": {},
   "outputs": [],
   "source": [
    "x = np.array([[1, 2, 3], \n",
    "              [4, 5, 6]])\n",
    "x"
   ]
  },
  {
   "cell_type": "markdown",
   "metadata": {},
   "source": [
    "**Dimenzija vektora i matrice**"
   ]
  },
  {
   "cell_type": "code",
   "execution_count": null,
   "metadata": {},
   "outputs": [],
   "source": [
    "y.shape"
   ]
  },
  {
   "cell_type": "code",
   "execution_count": null,
   "metadata": {},
   "outputs": [],
   "source": [
    "x.shape"
   ]
  },
  {
   "cell_type": "markdown",
   "metadata": {},
   "source": [
    "**Postavljanje vrijednosti**"
   ]
  },
  {
   "cell_type": "code",
   "execution_count": null,
   "metadata": {},
   "outputs": [],
   "source": [
    "y[2] = 100\n",
    "y"
   ]
  },
  {
   "cell_type": "code",
   "execution_count": null,
   "metadata": {},
   "outputs": [],
   "source": [
    "x[1, 0] = 100\n",
    "x"
   ]
  },
  {
   "cell_type": "markdown",
   "metadata": {},
   "source": [
    "**Stvaranje nul matrice**"
   ]
  },
  {
   "cell_type": "code",
   "execution_count": null,
   "metadata": {},
   "outputs": [],
   "source": [
    "np.zeros((3, 4))"
   ]
  },
  {
   "cell_type": "code",
   "execution_count": null,
   "metadata": {},
   "outputs": [],
   "source": [
    "np.zeros((3, 4), dtype=int)"
   ]
  },
  {
   "cell_type": "markdown",
   "metadata": {},
   "source": [
    "# 3. Minimalna udaljenost"
   ]
  },
  {
   "cell_type": "code",
   "execution_count": null,
   "metadata": {},
   "outputs": [],
   "source": [
    "from opj_v03_test import *"
   ]
  },
  {
   "cell_type": "markdown",
   "metadata": {},
   "source": [
    "## 3.1. Matrica udaljenosti\n",
    "\n",
    "Napravi funkciju **edit_dist_mx()** po sljedećim ulaznim i izlaznim podacima\n",
    "* ulaz:\n",
    "    * ** s1 ** tekst\n",
    "    * ** s2 ** tekst\n",
    "* izlaz:\n",
    "    * matrica udaljenosti između s1 i s2\n",
    "    \n",
    "Na primjer, matrica udaljenosti za s1 = \"nos\" i s2 = \"noj\" je\n",
    "\n",
    "    [[0, 1, 2, 3],  \n",
    "     [1, 0, 1, 2],  \n",
    "     [2, 1, 0, 1],  \n",
    "     [3, 2, 1, 2]]\n",
    "\n",
    "Odnosno \n",
    "\n",
    "         #\tn\to\tj  \n",
    "    #\t0\t1\t2\t3  \n",
    "    n\t1\t0\t1\t2  \n",
    "    o\t2\t1\t0\t1  \n",
    "    s\t3\t2\t1\t2  "
   ]
  },
  {
   "cell_type": "code",
   "execution_count": null,
   "metadata": {},
   "outputs": [],
   "source": [
    "def edit_dist_mx(s1, s2):\n",
    "    return\n",
    "\n",
    "\n",
    "def edit_dist(s1, s2):\n",
    "    return edit_dist_mx(s1, s2)[-1, -1]\n",
    "    \n",
    "\n",
    "testname(edit_dist)\n",
    "test_dist(edit_dist_mx, edit_dist, ('nos','noj'), ([[0, 1, 2, 3], \n",
    "                                                    [1, 0, 1, 2], \n",
    "                                                    [2, 1, 0, 1], \n",
    "                                                    [3, 2, 1, 2]], 2))\n",
    "test_dist(edit_dist_mx, edit_dist, ('osa','bosa'), ([[0, 1, 2, 3, 4], \n",
    "                                                     [1, 2, 1, 2, 3], \n",
    "                                                     [2, 3, 2, 1, 2], \n",
    "                                                     [3, 4, 3, 2, 1]], 1))\n",
    "test_dist(edit_dist_mx, edit_dist, ('bosa','osa'), ([[0, 1, 2, 3], \n",
    "                                                     [1, 2, 3, 4], \n",
    "                                                     [2, 1, 2, 3], \n",
    "                                                     [3, 2, 1, 2], \n",
    "                                                     [4, 3, 2, 1]], 1))\n",
    "test_dist(edit_dist_mx, edit_dist, ('paliti','piti'), ([[0, 1, 2, 3, 4], \n",
    "                                                        [1, 0, 1, 2, 3], \n",
    "                                                        [2, 1, 2, 3, 4], \n",
    "                                                        [3, 2, 3, 4, 5], \n",
    "                                                        [4, 3, 2, 3, 4], \n",
    "                                                        [5, 4, 3, 2, 3], \n",
    "                                                        [6, 5, 4, 3, 2]], 2))\n",
    "test_dist(edit_dist_mx, edit_dist, ('paliti','pisati'), ([[0, 1, 2, 3, 4, 5, 6], \n",
    "                                                          [1, 0, 1, 2, 3, 4, 5], \n",
    "                                                          [2, 1, 2, 3, 2, 3, 4], \n",
    "                                                          [3, 2, 3, 4, 3, 4, 5], \n",
    "                                                          [4, 3, 2, 3, 4, 5, 4], \n",
    "                                                          [5, 4, 3, 4, 5, 4, 5], \n",
    "                                                          [6, 5, 4, 5, 6, 5, 4]], 4))"
   ]
  },
  {
   "cell_type": "markdown",
   "metadata": {
    "collapsed": true
   },
   "source": [
    "Napravi funkciju ** align() ** po sljedećim ulaznim i izlaznim podacima\n",
    "* ulaz:\n",
    "    * **s1** tekst\n",
    "    * **s2** tekst\n",
    "* izlaz:\n",
    "    * Uređeni par **(as1, as2)** gdje je as1 poravnanje od s1, a as2 poravnanje od s2 (prilikom poravnanja koristiti \"-\")\n",
    "    \n",
    "NAPOMENA: poravnanje (izbor operacije) napraviti po sljedećim prioritetima:\n",
    "1. zamjena\n",
    "2. brisanje\n",
    "3. ubacivanje\n",
    "    \n",
    "Primjer, poravnanje od 'paliti' i 'pisati':\n",
    "\n",
    "    p--aliti  \n",
    "    pisa--ti\n"
   ]
  },
  {
   "cell_type": "code",
   "execution_count": null,
   "metadata": {},
   "outputs": [],
   "source": [
    "def align(s1, s2):\n",
    "    return\n",
    "\n",
    "testname(align)\n",
    "test_alignment(align, ('nos','noj'), {('no-s', 'noj-'), ('nos-', 'no-j'), ('nos', 'noj')})\n",
    "test_alignment(align, ('osa','bosa'), ('-osa', 'bosa'))\n",
    "test_alignment(align, ('bosa','osa'), ('bosa', '-osa'))\n",
    "test_alignment(align, ('paliti','piti'), ('paliti', 'p--iti'))\n",
    "test_alignment(align, ('paliti','pisati'), {('pali--ti', 'p--isati'), ('p--aliti', 'pisa--ti')})\n",
    "test_alignment(align, ('tradicija', 'dedukcija'), {('tra-di--cija', '-d-ed-ukcija'), ('-trad--icija', 'de--duk-cija'), ('trad--icija', 'de-duk-cija'), ('tra-d--icija', '-d-eduk-cija'), ('t--rad--icija', '-de--duk-cija'), ('tr-adi-cija', '-de-dukcija'), ('-tradi-cija', 'de--dukcija'), ('tr-a-d-icija', '--d-edukcija'), ('tra-d-icija', '-d-edukcija'), ('trad-icija', '-dedukcija'), ('--trad-icija', 'de---dukcija'), ('tradi-cija', 'de-dukcija'), ('trad--i-cija', '---dedukcija'), ('tr-ad-i-cija', '-de-du-kcija'), ('tra--di-cija', '---dedukcija'), ('t--radi-cija', '-de--dukcija'), ('trad--icija', '-deduk-cija'), ('t-ra-di--cija', '-d--ed-ukcija'), ('-tradi-cija', 'd--edukcija'), ('tra-d--icija', 'd--eduk-cija'), ('t-radi--cija', '-d-ed-ukcija'), ('t-rad--icija', '-d-eduk-cija'), ('tr-ad-i-cija', 'd-e-du-kcija'), ('tra--d-icija', '---dedukcija'), ('tradi--cija', 'd-ed-ukcija'), ('t-ra-d-icija', '-d--edukcija'), ('tra-d-icija', 'd--edukcija'), ('t-rad--icija', 'de--duk-cija'), ('t--rad-icija', '-de--dukcija'), ('t-ra-di-cija', '-d--edukcija'), ('tr-ad--icija', 'd-e-duk-cija'), ('-tradi-cija', 'd-e-dukcija'), ('-trad--icija', 'd--eduk-cija'), ('tr-adi-cija', '--dedukcija'), ('tr-adi--cija', '--ded-ukcija'), ('tr-a-d--icija', '--d-eduk-cija'), ('-tr-ad-icija', 'd--e-dukcija'), ('-tr-ad-i-cija', 'd--e-du-kcija'), ('tradi--cija', 'de-d-ukcija'), ('tra-d-icija', '--dedukcija'), ('tr--adi-cija', '--de-dukcija'), ('tr-ad-i-cija', '--dedu-kcija'), ('tra--d--icija', '---deduk-cija'), ('-tra-d--icija', 'd---eduk-cija'), ('tra-di-cija', '-d-edukcija'), ('-tradi--cija', 'd--ed-ukcija'), ('t-r-ad-i-cija', '-d-e-du-kcija'), ('tra-d-i-cija', '-d-edu-kcija'), ('-trad-i-cija', 'd-e-du-kcija'), ('tradi---cija', '---dedukcija'), ('tr-adi-cija', 'd-e-dukcija'), ('-trad-icija', 'de--dukcija'), ('-t-rad-icija', 'd-e--dukcija'), ('tr-adi--cija', '-de-d-ukcija'), ('-t-radi-cija', 'd-e--dukcija'), ('--trad--icija', 'de---duk-cija'), ('tr-a-d-i-cija', '--d-edu-kcija'), ('tr-ad-icija', '-de-dukcija'), ('tr--ad--icija', '--de-duk-cija'), ('-trad--icija', 'd-e-duk-cija'), ('-tr-ad--icija', 'd--e-duk-cija'), ('tr-ad--icija', '-de-duk-cija'), ('tradi-cija', '-dedukcija'), ('t-r-adi-cija', '-d-e-dukcija'), ('t-radi-cija', '-d-edukcija'), ('-tr-adi-cija', 'd--e-dukcija'), ('-trad-icija', 'd--edukcija'), ('--trad-i-cija', 'de---du-kcija'), ('t-rad-icija', '-de-dukcija'), ('t-radi-cija', 'de--dukcija'), ('t-rad-icija', '-d-edukcija'), ('tra-di--cija', 'd--ed-ukcija'), ('trad-icija', 'd-edukcija'), ('tra-di-cija', 'd--edukcija'), ('trad-i-cija', '-dedu-kcija'), ('tra-d-i-cija', '--dedu-kcija'), ('tr--ad-i-cija', '--de-du-kcija'), ('--tradi--cija', 'de---d-ukcija'), ('t-rad-i-cija', 'de--du-kcija'), ('-t-rad--icija', 'd-e--duk-cija'), ('-tra-di--cija', 'd---ed-ukcija'), ('t-ra-d--icija', '-d--eduk-cija'), ('-tradi--cija', 'de--d-ukcija'), ('t-rad--icija', '-de-duk-cija'), ('t-rad-icija', 'de--dukcija'), ('trad-i-cija', 'de-du-kcija'), ('tra-d--icija', '--deduk-cija'), ('tradi----cija', '---d-edukcija'), ('tra-di--cija', '--ded-ukcija'), ('tr-ad--icija', '--deduk-cija'), ('t-r-ad-icija', '-d-e-dukcija'), ('-trad-i-cija', 'd--edu-kcija'), ('tra-di-cija', '--dedukcija'), ('trad--i--cija', '---ded-ukcija'), ('t-ra-d-i-cija', '-d--edu-kcija'), ('-tr-adi--cija', 'd--e-d-ukcija'), ('t-radi--cija', 'de--d-ukcija'), ('tr-ad-icija', '--dedukcija'), ('trad-i-cija', 'd-edu-kcija'), ('-tra-d-i-cija', 'd---edu-kcija'), ('trad---icija', '---dedukcija'), ('-t-radi--cija', 'd-e--d-ukcija'), ('tr-adi--cija', 'd-e-d-ukcija'), ('t-radi-cija', '-de-dukcija'), ('tr-ad-icija', 'd-e-dukcija'), ('trad-icija', 'de-dukcija'), ('trad--icija', 'd-eduk-cija'), ('--tradi-cija', 'de---dukcija'), ('tr--ad-icija', '--de-dukcija'), ('tradi--cija', '-ded-ukcija'), ('t-rad-i-cija', '-de-du-kcija'), ('tr--adi--cija', '--de-d-ukcija'), ('trad----icija', '---deduk-cija'), ('-tra-di-cija', 'd---edukcija'), ('t-rad-i-cija', '-d-edu-kcija'), ('tr-a-di-cija', '--d-edukcija'), ('-tradi--cija', 'd-e-d-ukcija'), ('-trad-i-cija', 'de--du-kcija'), ('t--radi--cija', '-de--d-ukcija'), ('t-radi--cija', '-de-d-ukcija'), ('t-r-adi--cija', '-d-e-d-ukcija'), ('tra--d-i-cija', '---dedu-kcija'), ('-tra-d-icija', 'd---edukcija'), ('-trad-icija', 'd-e-dukcija'), ('tr-a-di--cija', '--d-ed-ukcija'), ('tradi-cija', 'd-edukcija'), ('t--rad-i-cija', '-de--du-kcija'), ('t-r-ad--icija', '-d-e-duk-cija'), ('trad-i--cija', '---dedukcija'), ('tra--di--cija', '---ded-ukcija'), ('tra-d-i-cija', 'd--edu-kcija'), ('-t-rad-i-cija', 'd-e--du-kcija'), ('trad---i-cija', '---dedu-kcija'), ('trad-i---cija', '---de-dukcija')})"
   ]
  },
  {
   "cell_type": "code",
   "execution_count": null,
   "metadata": {},
   "outputs": [],
   "source": []
  }
 ],
 "metadata": {
  "kernelspec": {
   "display_name": "Python 3 (ipykernel)",
   "language": "python",
   "name": "python3"
  },
  "language_info": {
   "codemirror_mode": {
    "name": "ipython",
    "version": 3
   },
   "file_extension": ".py",
   "mimetype": "text/x-python",
   "name": "python",
   "nbconvert_exporter": "python",
   "pygments_lexer": "ipython3",
   "version": "3.8.12"
  }
 },
 "nbformat": 4,
 "nbformat_minor": 1
}
