{
 "cells": [
  {
   "cell_type": "code",
   "execution_count": null,
   "metadata": {},
   "outputs": [],
   "source": [
    "import os\n",
    "import requests\n",
    "\n",
    "name = \"opj_v01_test.py\"\n",
    "if not os.path.exists(name):\n",
    "    response = requests.get(f\"https://raw.githubusercontent.com/bzitko/inlp_repo/main/labs/opj_v01_uvod/{name}\")\n",
    "    with open(name, \"wb\") as fp:\n",
    "        fp.write(response.content)\n",
    "    response.close()\n",
    "    \n",
    "name = \"alan_ford_001_grupa_tnt.txt\"\n",
    "if not os.path.exists(name):\n",
    "    response = requests.get(f\"https://raw.githubusercontent.com/bzitko/inlp_repo/main/labs/opj_v01_uvod/{name}\")\n",
    "    with open(name, \"wb\") as fp:\n",
    "        fp.write(response.content)\n",
    "    response.close()"
   ]
  },
  {
   "cell_type": "code",
   "execution_count": null,
   "metadata": {},
   "outputs": [],
   "source": [
    "from opj_v01_test import *"
   ]
  },
  {
   "cell_type": "markdown",
   "metadata": {},
   "source": [
    "# 1. Uvod\n",
    "\n",
    "## 1.1 Čitanje teksta iz datoteke\n",
    "\n",
    "Napravi funkciju **read_file()** po sljedećim ulaznim i izlaznim podacima\n",
    "* ulaz:\n",
    "    * **filename** putanja datoteke\n",
    "* izlaz:\n",
    "    * tekst iz datoteke\n",
    "    \n"
   ]
  },
  {
   "cell_type": "code",
   "execution_count": null,
   "metadata": {},
   "outputs": [],
   "source": [
    "def read_file(filename):\n",
    "    return open(filename, \"r\", encoding=\"utf-8\").read()"
   ]
  },
  {
   "cell_type": "markdown",
   "metadata": {},
   "source": [
    "Pročitaj tekst iz datoteke \"alan_ford_001_grupa_tnt.txt\""
   ]
  },
  {
   "cell_type": "code",
   "execution_count": null,
   "metadata": {},
   "outputs": [],
   "source": [
    "read_file(\"alan_ford_001_grupa_tnt.txt\")"
   ]
  },
  {
   "cell_type": "markdown",
   "metadata": {},
   "source": [
    "## 1.2 Duljina teksta u datoteci\n",
    "\n",
    "Napravi funkciju **len_file()** po sljedećim ulaznim i izlaznim podacima\n",
    "* ulaz:\n",
    "    * **filename** putanja datoteke\n",
    "* izlaz:\n",
    "    * broj znakova u datoteci"
   ]
  },
  {
   "cell_type": "code",
   "execution_count": null,
   "metadata": {},
   "outputs": [],
   "source": [
    "def len_file(filename):\n",
    "    return"
   ]
  },
  {
   "cell_type": "markdown",
   "metadata": {},
   "source": [
    "Testiraj funkciju na datoteci \"alan_ford_001_grupa_tnt.txt\".\n",
    "Očekivani rezultat je **19301**"
   ]
  },
  {
   "cell_type": "code",
   "execution_count": null,
   "metadata": {},
   "outputs": [],
   "source": [
    "testname(len_file)\n",
    "test(len_file, ('alan_ford_001_grupa_tnt.txt', ), 19301)"
   ]
  },
  {
   "cell_type": "markdown",
   "metadata": {},
   "source": [
    "## 1.3 Broj znakova u tekstu\n",
    "\n",
    "Napravi funkciju **count_chars()** po sljedećim ulaznim i izlaznim podacima\n",
    "* ulaz:\n",
    "    * **txt** tekst\n",
    "    * **chars** lista znakova\n",
    "* izlaz:\n",
    "    * ukupan broj pojavljivanja znakova iz liste znakova u tekstu\n",
    "\n",
    "Primjer: u tekstu \"Upravo sada kad sam konačno našao mušteriju!\" znakovi \"a\", \"k\" i \"t\" se ukupno javljaju 11 puta.\n"
   ]
  },
  {
   "cell_type": "code",
   "execution_count": null,
   "metadata": {},
   "outputs": [],
   "source": [
    "def count_chars(txt, chars):\n",
    "    return\n",
    "\n",
    "testname(count_chars)\n",
    "test(count_chars, input=('Upravo sada kad sam konačno našao mušteriju!', ['a','k','t']), output=11)\n",
    "test(count_chars, input=('Upravo sada kad sam konačno našao mušteriju!', ['u','U']), output=3)\n",
    "test(count_chars, input=(read_file('alan_ford_001_grupa_tnt.txt'), ['a','k','t']), output=2939)"
   ]
  },
  {
   "cell_type": "markdown",
   "metadata": {},
   "source": [
    "## 1.4 Broj podteksta u tekstu\n",
    "\n",
    "Napravi funkciju **count_subtext()** po sljedećim ulaznim i izlaznim podacima\n",
    "* ulaz:\n",
    "    * **txt** tekst\n",
    "    * **subtxt** podtekst\n",
    "* izlaz:\n",
    "    * ukupan broj pojavljivanja poddteksta u tekstu\n",
    "    \n",
    "Primjer: u tekstu \"Upravo sada kad sam konačno našao mušteriju!\" podtekst \"na\" se javlja 2 puta."
   ]
  },
  {
   "cell_type": "code",
   "execution_count": null,
   "metadata": {},
   "outputs": [],
   "source": [
    "def count_subtext(txt, subtxt):\n",
    "    return \n",
    "\n",
    "testname(count_subtext)\n",
    "test(count_subtext, input=('Upravo sada kad sam konačno našao mušteriju!', \"na\"), output=2)"
   ]
  },
  {
   "cell_type": "markdown",
   "metadata": {},
   "source": [
    "## 1.5 Pozicije podteksta u tekstu\n",
    "\n",
    "Napravi funkciju **pos_subtext()** po sljedećim ulaznim i izlaznim podacima\n",
    "* ulaz:\n",
    "    * **txt** tekst\n",
    "    * **subtxt** podtekst\n",
    "* izlaz:\n",
    "    * lista pozicija pojavljivanja poddteksta u tekstu\n",
    "    \n",
    "Primjer: u tekstu \"Upravo sada kad sam konačno našao mušteriju!\" podtekst \"na\" se javlja na pozicijama 22 i 28."
   ]
  },
  {
   "cell_type": "code",
   "execution_count": null,
   "metadata": {},
   "outputs": [],
   "source": [
    "def pos_subtext(txt, subtxt):\n",
    "    return\n",
    "\n",
    "testname(pos_subtext)\n",
    "test(pos_subtext, input=('Upravo sada kad sam konačno našao mušteriju!', 'na'), output=[22, 28])\n",
    "test(pos_subtext, input=('Bananarama je svakog dana sama', 'ana'), output=[1, 3, 22])\n",
    "test(pos_subtext, input=(read_file(\"alan_ford_001_grupa_tnt.txt\"), 'New York'), output= [29, 12946, 16002])"
   ]
  },
  {
   "cell_type": "code",
   "execution_count": null,
   "metadata": {},
   "outputs": [],
   "source": []
  }
 ],
 "metadata": {
  "kernelspec": {
   "display_name": "Python 3.8.2 64-bit",
   "language": "python",
   "name": "python3"
  },
  "language_info": {
   "codemirror_mode": {
    "name": "ipython",
    "version": 3
   },
   "file_extension": ".py",
   "mimetype": "text/x-python",
   "name": "python",
   "nbconvert_exporter": "python",
   "pygments_lexer": "ipython3",
   "version": "3.8.2"
  },
  "vscode": {
   "interpreter": {
    "hash": "31f2aee4e71d21fbe5cf8b01ff0e069b9275f58929596ceb00d14d90e3e16cd6"
   }
  }
 },
 "nbformat": 4,
 "nbformat_minor": 1
}
