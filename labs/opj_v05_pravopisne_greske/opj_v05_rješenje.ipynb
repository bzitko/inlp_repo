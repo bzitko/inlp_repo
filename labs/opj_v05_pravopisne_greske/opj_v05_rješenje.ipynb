{
 "cells": [
  {
   "cell_type": "code",
   "execution_count": 1,
   "metadata": {},
   "outputs": [],
   "source": [
    "import os\n",
    "import requests\n",
    "\n",
    "name = \"opj_v05_test.py\"\n",
    "if not os.path.exists(name):\n",
    "    response = requests.get(f\"https://raw.githubusercontent.com/bzitko/inlp_repo/main/labs/opj_v05_pravopisne_greske/{name}\")\n",
    "    with open(name, \"wb\") as fp:\n",
    "        fp.write(response.content)\n",
    "    response.close()\n",
    "    \n",
    "name = \"hr_unigram.txt\"\n",
    "if not os.path.exists(name):\n",
    "    response = requests.get(f\"https://raw.githubusercontent.com/bzitko/inlp_repo/main/labs/opj_v05_pravopisne_greske/{name}\")\n",
    "    with open(name, \"wb\") as fp:\n",
    "        fp.write(response.content)\n",
    "    response.close()"
   ]
  },
  {
   "cell_type": "markdown",
   "metadata": {},
   "source": [
    "# Pravopisne greške\n",
    "\n",
    "## 5.1. Datoteka ngram modela\n",
    "\n",
    "`read_model()` i `write_model()` su funkcije koje služe za rad s datotekom ngram modela.\n",
    "U ovom slučaju radi se o datoteci \"hr_unigram.txt\" koja sadrži unigram model,\n",
    "odnosno redak u datoteci je riječ i njena frekvencija (broj pojavljivanja)\n",
    "\n"
   ]
  },
  {
   "cell_type": "code",
   "execution_count": null,
   "metadata": {},
   "outputs": [],
   "source": [
    "from opj_v05_test import *\n",
    "\n",
    "def read_counter(filename):\n",
    "    \"\"\"\n",
    "    ulaz:\n",
    "    -filename: putanja datoteke\n",
    "    izlaz:\n",
    "    -model jezika\n",
    "    \"\"\"\n",
    "    print('*** loading model ' + filename, end=' ')\n",
    "    txt = open(filename, 'r', encoding='utf8').read().strip()\n",
    "\n",
    "    counter = {}\n",
    "    for line in txt.split('\\n'):\n",
    "        if not line.startswith('#'):\n",
    "            line = line.split('\\t')\n",
    "            ngram, freq = line[:-1][0], int(line[-1])\n",
    "            counter[ngram] = freq\n",
    "    print('FINISHED')\n",
    "    return counter\n",
    "\n",
    "def write_counter(filename, counter, comment = None):\n",
    "    \"\"\"\n",
    "    ulaz:\n",
    "    -filename: putanja datoteke\n",
    "    -model: model jezika\n",
    "    -comment: opcioni komentar na početku datoteke\n",
    "    izlaz:\n",
    "    zapiše model jezika u datoteku\n",
    "    svaki red datoteke je oblika\n",
    "    w1\\tw2\\tw3\\t...\\twn\\tfreq\n",
    "    gdje su w1, ..., wn riječi ngrama, a freq frekvencija\n",
    "    \"\"\"\n",
    "    f = open(filename, 'w', encoding='utf8')\n",
    "    if comment: f.write('# ' + str(comment) + '\\n')\n",
    "    for freq, ngram in sorted(((freq, ngram) for ngram, freq in model.items()), reverse=True):\n",
    "        f.write('\\t'.join(ngram) + '\\t' + str(freq) + '\\n')\n",
    "    f.close()\n",
    "    \n",
    "unigram = read_counter('hr_unigram.txt')\n",
    "unigram"
   ]
  },
  {
   "cell_type": "markdown",
   "metadata": {},
   "source": [
    "## 5.2 Minimalna udaljenost od 1\n",
    "\n",
    "`gen_deletes()`, `gen_inserts()`, `gen_replaces()` i `gen_transposes()` su funkcija koje za zadanu riječ i abecedu generiraju skup riječi koje su za 1 udaljene od zadane riječi temeljem\n",
    "brisanja, ubacivanja, zamjene i transpozicije (zamjene dva susjedna znaka) u zadanoj riječi.\n",
    "\n",
    "\n",
    "Na primjer, neka je zadana riječ: \"pas\" i abeceda \"ABC\":\n",
    "* `gen_deletes()` daje: \"as\", \"ps\", \"pa\"\n",
    "* `gen_inserts()` daje: \"Apas\", \"Bpas\", \"Cpas\", \"pAas\", \"pBas\", \"pCas\", \"paAs\", \"paBs\", \"paCs\", \"pasA\", \"pasB\", \"pasC\"\n",
    "* `gen_replaces()` daje: \"Aas\", \"Bas\", \"Cas\", \"pAs\", \"pBs\", \"pCs\", \"paA\", \"paB\", \"paC\"\n",
    "* `gen_transposes()` daje: \"aps\", \"psa\"\n",
    "\n",
    "### Generiranje riječi nastalih brisanjem jednog znaka\n",
    "\n",
    "Napravi funkciju **gen_deletes()** po sljedećim ulaznim i izlaznim podacima\n",
    "* ulaz:\n",
    "    * **word** riječ\n",
    "* izlaz:\n",
    "    * skup svih riječi nastalih brisanjem jednog znaka iz zadane riječi.\n",
    "\n",
    "Na primjer: za riječ \"pas\" dobiva se {\"as\", \"ps\", \"pa\"}"
   ]
  },
  {
   "cell_type": "code",
   "execution_count": null,
   "metadata": {},
   "outputs": [],
   "source": [
    "def gen_deletes(word):\n",
    "    \"\"\"\n",
    "    ulaz:\n",
    "    -word: riječ\n",
    "    izlaz:\n",
    "    -skup svih riječi nastalih brisanjem jednog znaka iz zadane riječi\n",
    "\n",
    "    Primjer: za riječ \"pas\" dobiva se {\"as\", \"ps\", \"pa\"}\n",
    "    \"\"\"\n",
    "    return {word[:i] + word[i+1:] for i in range(len(word))}\n",
    "\n",
    "testname(gen_deletes)\n",
    "test(gen_deletes, ('pas', ), {'as', 'ps', 'pa'})\n",
    "test(gen_deletes, ('kuća', ), {'uća', 'kća', 'kua', 'kuć'})\n",
    "test(gen_deletes, ('banana', ), {'anana', 'bnana', 'baana', 'banna', 'banaa', 'banan'})"
   ]
  },
  {
   "cell_type": "markdown",
   "metadata": {},
   "source": [
    "### Generiranje riječi nastalih ubacivanjem jednog znaka\n",
    "\n",
    "Napravi funkciju **gen_inserts()** po sljedećim ulaznim i izlaznim podacima\n",
    "* ulaz:\n",
    "    * **word** riječ\n",
    "    * **alphabet** znakovi abecede (kao string)\n",
    "* izlaz:\n",
    "    * skup svih riječi nastalih dodavanjem svakog znaka iz abecede na sva moguća mjesta u riječi\n",
    "\n",
    "Na primjer: za riječ \"pas\" i abecedu \"abc\" dobiva se  \n",
    "{\"apas\", \"bpas\", \"cpas\", \"paas\", \"pbas\", \"pcas\", \"pabs\", \"pacs\", \"pasa\", \"pasb\", \"pasc\"}"
   ]
  },
  {
   "cell_type": "code",
   "execution_count": null,
   "metadata": {},
   "outputs": [],
   "source": [
    "def gen_inserts(word, alphabet):\n",
    "    \"\"\"\n",
    "    ulaz:\n",
    "    -word: riječ\n",
    "    -alphabet: znakovi abecede (kao string)\n",
    "    izlaz:\n",
    "    -skup svih riječi nastalih dodavanjem svakog znaka iz abecede na sva moguća mjesta u riječi\n",
    "\n",
    "    Primjer: za riječ \"pas\" i abecedu \"abc\" dobiva se\n",
    "    {\"apas\", \"bpas\", \"cpas\", \"paas\", \"pbas\", \"pcas\", \"pabs\", \"pacs\", \"pasa\", \"pasb\", \"pasc\"}\n",
    "    \"\"\"\n",
    "    return {word[:i] + letter + word[i:] for i in range(len(word) + 1) for letter in alphabet}\n",
    "\n",
    "testname(gen_inserts)\n",
    "test(gen_inserts, ('pas', 'abc'), {'apas', 'bpas', 'cpas', 'paas', 'pbas', 'pcas', 'pabs', 'pacs', 'pasa', 'pasb', 'pasc'})\n",
    "test(gen_inserts, ('kuća', 'ABC'), {'Akuća', 'Bkuća', 'Ckuća', 'kAuća', 'kBuća', 'kCuća', 'kuAća', 'kuBća', 'kuCća', 'kućAa', 'kućBa', 'kućCa', 'kućaA', 'kućaB', 'kućaC'})\n",
    "test(gen_inserts, ('banana', 'XY'), {'Xbanana', 'bXanana', 'baXnana', 'banXana', 'banaXna', 'bananXa', 'bananaX', 'Ybanana', 'bYanana', 'baYnana', 'banYana', 'banaYna', 'bananYa', 'bananaY'})"
   ]
  },
  {
   "cell_type": "markdown",
   "metadata": {},
   "source": [
    "### Generiranje riječi nastalih zamjenom jednog znaka\n",
    "\n",
    "Napravi funkciju **gen_replaces()** po sljedećim ulaznim i izlaznim podacima\n",
    "* ulaz:\n",
    "    * **word** riječ\n",
    "    * **alphabet** znakovi abecede (kao string)\n",
    "* izlaz:\n",
    "    * skup svih riječi nastalih zamjenom svakog znaka iz riječi sa svakim znakom iz abecede\n",
    "\n",
    "\n",
    "Na primjer: za riječ \"pas\" i abecedu \"abc\" dobiva se  \n",
    "{\"aas\", \"bas\", \"cas\", \"pas\", \"pbs\", \"pcs\", \"paa\", \"pab\", \"pac\"}"
   ]
  },
  {
   "cell_type": "code",
   "execution_count": null,
   "metadata": {},
   "outputs": [],
   "source": [
    "def gen_replaces(word, alphabet):\n",
    "    \"\"\"\n",
    "    ulaz:\n",
    "    -word: riječ\n",
    "    -alphabet: znakovi abecede (kao string)\n",
    "    izlaz:\n",
    "    -skup svih riječi nastalih zamjenom svakog znaka iz riječi sa svakim znakom iz abecede\n",
    "\n",
    "    Primjer: za riječ \"pas\" i abecedu \"abc\" dobiva se\n",
    "    {\"aas\", \"bas\", \"cas\", \"pas\", \"pbs\", \"pcs\", \"paa\", \"pab\", \"pac\"}\n",
    "    \"\"\"\n",
    "    return {word[:i] + letter + word[i+1:] for i in range(len(word)) for letter in alphabet}\n",
    "\n",
    "testname(gen_replaces)\n",
    "test(gen_replaces, ('pas', 'abc'), {'aas', 'bas', 'cas', 'pas', 'pbs', 'pcs', 'paa', 'pab', 'pac'})\n",
    "test(gen_replaces, ('kuća', 'ABC'), {'Auća', 'Buća', 'Cuća', 'kAća', 'kBća', 'kCća', 'kuAa', 'kuBa', 'kuCa', 'kućA', 'kućB', 'kućC'})\n",
    "test(gen_replaces, ('banana', \"XY\"), {'Xanana', 'bXnana', 'baXana', 'banXna', 'banaXa', 'bananX', 'Yanana', 'bYnana', 'baYana', 'banYna', 'banaYa', 'bananY'})"
   ]
  },
  {
   "cell_type": "markdown",
   "metadata": {},
   "source": [
    "### Generiranje riječi nastalih zamjenom mjesta dva susjedna znaka\n",
    "\n",
    "Napravi funkciju **gen_transposes()** po sljedećim ulaznim i izlaznim podacima\n",
    "* ulaz:\n",
    "    * **word** riječ\n",
    "* izlaz:\n",
    "    * skup riječi nastalih zamjenom dva susjedna znaka iz zadane riječi\n",
    "\n",
    "\n",
    "Na primjer: za riječ dobiva se  \n",
    "{\"aps\", \"psa\"}"
   ]
  },
  {
   "cell_type": "code",
   "execution_count": null,
   "metadata": {},
   "outputs": [],
   "source": [
    "def gen_transposes(word):\n",
    "    \"\"\"\n",
    "    ulaz:\n",
    "    -word: riječ\n",
    "    izlaz:\n",
    "    -skup riječi nastalih zamjenom dva susjedna znaka iz zadane riječi\n",
    "\n",
    "    Primjer: za riječ \"pas\" dobiva se\n",
    "    {\"aps\", \"psa\"}\n",
    "    \"\"\"\n",
    "    return {word[:i] + word[i+1] + word[i] + word[i+2:] for i in range(len(word)-1)}\n",
    "\n",
    "testname(gen_transposes)\n",
    "test(gen_transposes, ('pas', ), {'aps', 'psa'})\n",
    "test(gen_transposes, ('kuća', ), {'ukća', 'kćua', 'kuać'})\n",
    "test(gen_transposes, ('banana', ), {'abnana', 'bnaana', 'baanna', 'banaan', 'bannaa'})\n"
   ]
  },
  {
   "cell_type": "markdown",
   "metadata": {},
   "source": [
    "### Generiranje riječi udaljenosti 1\n",
    "\n",
    "Napravi funkciju **gen_edits1()** po sljedećim ulaznim i izlaznim podacima\n",
    "* ulaz:\n",
    "    * **word** riječ\n",
    "    * **alphabet** abeceda\n",
    "* izlaz:\n",
    "    * skup riječi koje su za 1 udaljene od dane riječi\n",
    "    \n",
    "Napomena: rezultat je unija skupova dobivenim brisanjem, ubacivanjem, zamjenom i transpozicijom\n"
   ]
  },
  {
   "cell_type": "code",
   "execution_count": null,
   "metadata": {},
   "outputs": [],
   "source": [
    "def gen_edits1(word, alphabet):\n",
    "    \"\"\"\n",
    "    ulaz:\n",
    "    -word: riječ\n",
    "    -alphabet: abeceda\n",
    "    izlaz:\n",
    "    -skup riječi koji su za 1 udaljeni od dane riječi\n",
    "    ovisnost:\n",
    "    -gen_deletes, gen_inserts, gen_replaces, gen_transposes\n",
    "\n",
    "    Napomena: Rezultat je unija skupova dobivenim brisanjem, ubacivanjem, zamjenom i transpozicijom\n",
    "    \"\"\"\n",
    "    return gen_deletes(word) | gen_inserts(word, alphabet) | gen_replaces(word, alphabet) | gen_transposes(word)\n",
    "\n",
    "testname(gen_edits1)\n",
    "test(gen_edits1, ('pas', 'abc'), {'pabs', 'pa', 'pasa', 'pasc', 'paa', 'pab', 'pas', 'bpas', 'apas', 'aps', 'pcs', 'pbas', 'cas', 'pac', 'ps', 'psa', 'cpas', 'pcas', 'aas', 'pbs', 'paas', 'as', 'bas', 'pasb', 'pacs'})\n"
   ]
  },
  {
   "cell_type": "markdown",
   "metadata": {},
   "source": [
    "## 5.3 Ispravljanje pravopisnih grešaka\n",
    "\n",
    "### Kandidati za pravopisnu grešku\n",
    "\n",
    "\n",
    "Napravi funkciju **spell_candidates()** po sljedećim ulaznim i izlaznim podacima\n",
    "* ulaz:\n",
    "    * **word** riječ\n",
    "    * **alphabet** abeceda\n",
    "    * **model** unigram model jezika\n",
    "* izlaz:\n",
    "    * lista kandidata nastalih presjekom skupa riječi koje su za 1 udaljene od zadane riječi i skupa svih riječi iz unigrama sortiranih po frekvenciji riječi od najveće prema najmanjoj.\n",
    "\n"
   ]
  },
  {
   "cell_type": "code",
   "execution_count": null,
   "metadata": {},
   "outputs": [],
   "source": [
    "def spell_candidates(word, alphabet, model):\n",
    "    \"\"\"\n",
    "    ulaz:\n",
    "    -word: riječ\n",
    "    -alphabet: abeceda\n",
    "    -model: unigram model jezika\n",
    "    izlaz:\n",
    "    -lista kandidata nastalih presjekom skupa riječi koje su za 1 udaljene od zadane riječi i\n",
    "    skupa svih riječi iz unigrama sortiranih po frekvenciji riječi od najveće prema najmanjom\n",
    "    ovisnost:\n",
    "    -gen_edits1\n",
    "    \"\"\"\n",
    "    candidates = gen_edits1(word, alphabet) & set(model)\n",
    "    return sorted(candidates, key = model.get, reverse = True)\n",
    "\n",
    "\n",
    "testname(spell_candidates)\n",
    "test(spell_candidates, ('moelkula', 'abcčćdđefghijklmnoprsštuvzž', unigram), ['molekula'])\n",
    "test(spell_candidates, ('atmo', 'abcčćdđefghijklmnoprsštuvzž', unigram), ['tamo', 'amo', 'ajmo', 'atom', 'ato'])\n",
    "test(spell_candidates, ('pivt', 'abcčćdđefghijklmnoprsštuvzž', unigram), ['piva', 'pivo', 'pivu', 'pive', 'pit', 'pivot', 'pivat'])\n"
   ]
  },
  {
   "cell_type": "code",
   "execution_count": null,
   "metadata": {},
   "outputs": [],
   "source": []
  }
 ],
 "metadata": {
  "kernelspec": {
   "display_name": "Python 3.8.13 ('nlp')",
   "language": "python",
   "name": "python3"
  },
  "language_info": {
   "codemirror_mode": {
    "name": "ipython",
    "version": 3
   },
   "file_extension": ".py",
   "mimetype": "text/x-python",
   "name": "python",
   "nbconvert_exporter": "python",
   "pygments_lexer": "ipython3",
   "version": "3.8.13"
  },
  "vscode": {
   "interpreter": {
    "hash": "358f19b5168dcc2c817c22e8ae2c189228565b53de3b91095ee770a390daccdd"
   }
  }
 },
 "nbformat": 4,
 "nbformat_minor": 1
}
