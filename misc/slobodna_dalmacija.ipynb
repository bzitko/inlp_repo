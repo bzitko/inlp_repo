{
 "cells": [
  {
   "cell_type": "code",
   "execution_count": 1,
   "metadata": {},
   "outputs": [],
   "source": [
    "import requests\n",
    "from bs4 import BeautifulSoup\n",
    "import pandas as pd\n",
    "import re\n",
    "\n",
    "from collections import Counter\n",
    "\n",
    "from tqdm.notebook import tqdm"
   ]
  },
  {
   "cell_type": "markdown",
   "metadata": {},
   "source": [
    "## Scrapping Web page\n",
    "\n",
    "Method `scrap_page(url)` scraps category, title, content and urls from a given page. This method is tailored for `slobodnadalmacija.hr` and other urls cound have category, title, content and/or urls in different HTML tags."
   ]
  },
  {
   "cell_type": "code",
   "execution_count": 94,
   "metadata": {},
   "outputs": [],
   "source": [
    "ROOT_URL = \"https://slobodnadalmacija.hr\"\n",
    "\n",
    "def scrap_page(url):\n",
    "    page = requests.get(url)\n",
    "    soup = BeautifulSoup(page.content)\n",
    "\n",
    "    data = {\"url\": url,\n",
    "            \"category\": \"\", \n",
    "            \"title\": \"\",\n",
    "            \"content\": \"\",\n",
    "            \"urls\": set()}\n",
    "    \n",
    "    # kategorija\n",
    "    category = url.split(\"/\")[3:4]\n",
    "    data[\"category\"] = \"\".join(category)\n",
    "\n",
    "    # scrap title\n",
    "    h1 = soup.find(\"h1\")\n",
    "    if h1:\n",
    "        data[\"title\"] = h1.text.strip()\n",
    "\n",
    "    # scrap content\n",
    "    text = []\n",
    "    div = soup.find(\"div\", class_=\"itemFullText\")\n",
    "    if div:\n",
    "        for p in div.find_all(\"p\"):\n",
    "            text.append(p.text.strip())\n",
    "        data[\"content\"] = \"\\n\".join(text)\n",
    "\n",
    "    # scrap urls\n",
    "    for a in soup.find_all(\"a\", class_=\"card__article-link\"):\n",
    "        if a[\"href\"].startswith(\"http\"):\n",
    "            data[\"urls\"].add(a[\"href\"])\n",
    "        else:\n",
    "            data[\"urls\"].add(ROOT_URL + a[\"href\"])\n",
    "\n",
    "    return data\n",
    "    \n",
    "root_data = scrap_page(ROOT_URL)\n",
    "#root_data"
   ]
  },
  {
   "cell_type": "markdown",
   "metadata": {},
   "source": [
    "# Scrapping multiple pages\n",
    "\n",
    "This method scraps multiple pages starting from the root page and follows internal hyperlinks and scraps those pages too."
   ]
  },
  {
   "cell_type": "code",
   "execution_count": 95,
   "metadata": {},
   "outputs": [
    {
     "data": {
      "application/vnd.jupyter.widget-view+json": {
       "model_id": "aaa2e99557b04d98be3ef08b414f984b",
       "version_major": 2,
       "version_minor": 0
      },
      "text/plain": [
       "  0%|          | 0/126 [00:00<?, ?it/s]"
      ]
     },
     "metadata": {},
     "output_type": "display_data"
    }
   ],
   "source": [
    "def scrap_multiple_pages(root_url):\n",
    "    dataset = []\n",
    "    visited_urls = {root_url}\n",
    "\n",
    "    root_data = scrap_page(root_url)\n",
    "\n",
    "    prev_urls = root_data[\"urls\"]\n",
    "    next_urls = set()\n",
    "    for url in tqdm(prev_urls):\n",
    "        data = scrap_page(url)\n",
    "        dataset.append(data)\n",
    "        next_urls.update(data[\"urls\"])\n",
    "    next_urls -= visited_urls\n",
    "\n",
    "    return dataset\n",
    "\n",
    "dataset = scrap_multiple_pages(ROOT_URL)\n"
   ]
  },
  {
   "cell_type": "markdown",
   "metadata": {},
   "source": [
    "## Presenting data as dataframe\n",
    "\n",
    "Don't forget to save the data!"
   ]
  },
  {
   "cell_type": "code",
   "execution_count": 96,
   "metadata": {},
   "outputs": [
    {
     "data": {
      "text/html": [
       "<div>\n",
       "<style scoped>\n",
       "    .dataframe tbody tr th:only-of-type {\n",
       "        vertical-align: middle;\n",
       "    }\n",
       "\n",
       "    .dataframe tbody tr th {\n",
       "        vertical-align: top;\n",
       "    }\n",
       "\n",
       "    .dataframe thead th {\n",
       "        text-align: right;\n",
       "    }\n",
       "</style>\n",
       "<table border=\"1\" class=\"dataframe\">\n",
       "  <thead>\n",
       "    <tr style=\"text-align: right;\">\n",
       "      <th></th>\n",
       "      <th>url</th>\n",
       "      <th>category</th>\n",
       "      <th>title</th>\n",
       "      <th>content</th>\n",
       "    </tr>\n",
       "  </thead>\n",
       "  <tbody>\n",
       "    <tr>\n",
       "      <th>0</th>\n",
       "      <td>https://slobodnadalmacija.hr/mozaik/zdravlje/o...</td>\n",
       "      <td>mozaik</td>\n",
       "      <td>Ovo je najbolji protuupalni napitak za poboljš...</td>\n",
       "      <td>Zamršena veza između imuniteta i gubitka težin...</td>\n",
       "    </tr>\n",
       "    <tr>\n",
       "      <th>1</th>\n",
       "      <td>https://slobodnadalmacija.hr/vijesti/svijet/vu...</td>\n",
       "      <td>vijesti</td>\n",
       "      <td>Vučić šeta Srbijom, dijeli po 85 eura srednjoš...</td>\n",
       "      <td>Smiju li hrvatski mediji uopće pratiti predizb...</td>\n",
       "    </tr>\n",
       "    <tr>\n",
       "      <th>2</th>\n",
       "      <td>https://slobodnadalmacija.hr/vijesti/politika/...</td>\n",
       "      <td>vijesti</td>\n",
       "      <td>Vanđelić o mogućim koalicijama: ‘Kćer mi je re...</td>\n",
       "      <td>Damir Vanđelić, novi predsjednik nove stranke ...</td>\n",
       "    </tr>\n",
       "    <tr>\n",
       "      <th>3</th>\n",
       "      <td>https://slobodnadalmacija.hr/zadar/regional/ba...</td>\n",
       "      <td>zadar</td>\n",
       "      <td>Barbarićeva kuća mora pasti! Upravni sud dao ‘...</td>\n",
       "      <td>Frane Barbarić, predsjednik uprave HEP-a i pot...</td>\n",
       "    </tr>\n",
       "    <tr>\n",
       "      <th>4</th>\n",
       "      <td>https://slobodnadalmacija.hr/vijesti/hrvatska/...</td>\n",
       "      <td>vijesti</td>\n",
       "      <td>Jeste li i vi zapazili vozni park kojim slavon...</td>\n",
       "      <td>Seljaci danima prosvjeduju po Slavoniji.\\nBlok...</td>\n",
       "    </tr>\n",
       "    <tr>\n",
       "      <th>...</th>\n",
       "      <td>...</td>\n",
       "      <td>...</td>\n",
       "      <td>...</td>\n",
       "      <td>...</td>\n",
       "    </tr>\n",
       "    <tr>\n",
       "      <th>121</th>\n",
       "      <td>https://slobodnadalmacija.hr/mozaik/panorama/t...</td>\n",
       "      <td>mozaik</td>\n",
       "      <td>Tjedni horoskop: Ovnovima intimni život donosi...</td>\n",
       "      <td>OVAN\\n21. OŽUJKA – 20. TRAVNJA\\nNa poslu ćete ...</td>\n",
       "    </tr>\n",
       "    <tr>\n",
       "      <th>122</th>\n",
       "      <td>https://slobodnadalmacija.hr/vijesti/hrvatska/...</td>\n",
       "      <td>vijesti</td>\n",
       "      <td>Frane Barbarić: ‘Sam ću srušiti vilu na Hvaru,...</td>\n",
       "      <td>Općinski sud u Splitu, kako doznaje Jutarnji l...</td>\n",
       "    </tr>\n",
       "    <tr>\n",
       "      <th>123</th>\n",
       "      <td>https://slobodnadalmacija.hr/dalmacija/zagora/...</td>\n",
       "      <td>dalmacija</td>\n",
       "      <td>Legendarna dalmatinska škola dobit će potpuno ...</td>\n",
       "      <td>Do kraja lipnja 2026. godine, Vrgorska krajina...</td>\n",
       "    </tr>\n",
       "    <tr>\n",
       "      <th>124</th>\n",
       "      <td>https://slobodnadalmacija.hr/sport/strani-nogo...</td>\n",
       "      <td>sport</td>\n",
       "      <td>Stipe Biuk i Los Angeles izborili finale, na p...</td>\n",
       "      <td>Nogometaši Los Angeles FC-a, za koji igra Stip...</td>\n",
       "    </tr>\n",
       "    <tr>\n",
       "      <th>125</th>\n",
       "      <td>https://dubrovacki.slobodnadalmacija.hr/dubrov...</td>\n",
       "      <td>dubrovnik</td>\n",
       "      <td>Na jugu nikad manje nezaposlenih, a onim rijet...</td>\n",
       "      <td>Godina na izmaku u evidenciji Hrvatskog zavoda...</td>\n",
       "    </tr>\n",
       "  </tbody>\n",
       "</table>\n",
       "<p>126 rows × 4 columns</p>\n",
       "</div>"
      ],
      "text/plain": [
       "                                                   url   category  \\\n",
       "0    https://slobodnadalmacija.hr/mozaik/zdravlje/o...     mozaik   \n",
       "1    https://slobodnadalmacija.hr/vijesti/svijet/vu...    vijesti   \n",
       "2    https://slobodnadalmacija.hr/vijesti/politika/...    vijesti   \n",
       "3    https://slobodnadalmacija.hr/zadar/regional/ba...      zadar   \n",
       "4    https://slobodnadalmacija.hr/vijesti/hrvatska/...    vijesti   \n",
       "..                                                 ...        ...   \n",
       "121  https://slobodnadalmacija.hr/mozaik/panorama/t...     mozaik   \n",
       "122  https://slobodnadalmacija.hr/vijesti/hrvatska/...    vijesti   \n",
       "123  https://slobodnadalmacija.hr/dalmacija/zagora/...  dalmacija   \n",
       "124  https://slobodnadalmacija.hr/sport/strani-nogo...      sport   \n",
       "125  https://dubrovacki.slobodnadalmacija.hr/dubrov...  dubrovnik   \n",
       "\n",
       "                                                 title  \\\n",
       "0    Ovo je najbolji protuupalni napitak za poboljš...   \n",
       "1    Vučić šeta Srbijom, dijeli po 85 eura srednjoš...   \n",
       "2    Vanđelić o mogućim koalicijama: ‘Kćer mi je re...   \n",
       "3    Barbarićeva kuća mora pasti! Upravni sud dao ‘...   \n",
       "4    Jeste li i vi zapazili vozni park kojim slavon...   \n",
       "..                                                 ...   \n",
       "121  Tjedni horoskop: Ovnovima intimni život donosi...   \n",
       "122  Frane Barbarić: ‘Sam ću srušiti vilu na Hvaru,...   \n",
       "123  Legendarna dalmatinska škola dobit će potpuno ...   \n",
       "124  Stipe Biuk i Los Angeles izborili finale, na p...   \n",
       "125  Na jugu nikad manje nezaposlenih, a onim rijet...   \n",
       "\n",
       "                                               content  \n",
       "0    Zamršena veza između imuniteta i gubitka težin...  \n",
       "1    Smiju li hrvatski mediji uopće pratiti predizb...  \n",
       "2    Damir Vanđelić, novi predsjednik nove stranke ...  \n",
       "3    Frane Barbarić, predsjednik uprave HEP-a i pot...  \n",
       "4    Seljaci danima prosvjeduju po Slavoniji.\\nBlok...  \n",
       "..                                                 ...  \n",
       "121  OVAN\\n21. OŽUJKA – 20. TRAVNJA\\nNa poslu ćete ...  \n",
       "122  Općinski sud u Splitu, kako doznaje Jutarnji l...  \n",
       "123  Do kraja lipnja 2026. godine, Vrgorska krajina...  \n",
       "124  Nogometaši Los Angeles FC-a, za koji igra Stip...  \n",
       "125  Godina na izmaku u evidenciji Hrvatskog zavoda...  \n",
       "\n",
       "[126 rows x 4 columns]"
      ]
     },
     "execution_count": 96,
     "metadata": {},
     "output_type": "execute_result"
    }
   ],
   "source": [
    "scrap_df = pd.DataFrame(dataset).drop(\"urls\", axis=1)\n",
    "scrap_df"
   ]
  },
  {
   "cell_type": "markdown",
   "metadata": {},
   "source": [
    "Number of documents per category"
   ]
  },
  {
   "cell_type": "code",
   "execution_count": 97,
   "metadata": {},
   "outputs": [
    {
     "data": {
      "text/plain": [
       "dalmacija    26\n",
       "mozaik       19\n",
       "vijesti      17\n",
       "split        15\n",
       "sport        14\n",
       "scena        11\n",
       "dubrovnik     7\n",
       "spiza         5\n",
       "kultura       5\n",
       "zadar         3\n",
       "om            2\n",
       "sibenik       2\n",
       "Name: category, dtype: int64"
      ]
     },
     "execution_count": 97,
     "metadata": {},
     "output_type": "execute_result"
    }
   ],
   "source": [
    "scrap_df.category.value_counts()"
   ]
  },
  {
   "cell_type": "markdown",
   "metadata": {},
   "source": [
    "## Functions for splitting sentences and tokens\n",
    "\n",
    "Sentence splitting in this case uses regular expression for finding interpuction character following by whitespace and replacing them with a new line. Then splits given string by new line.\n",
    "\n",
    "Token splittining in this case uses regular expression for finding all sequences of alphanumerical characters and sequences of special non alphanumeric characters."
   ]
  },
  {
   "cell_type": "code",
   "execution_count": 98,
   "metadata": {},
   "outputs": [
    {
     "name": "stdout",
     "output_type": "stream",
     "text": [
      "Protuupalni napici, bogati antioksidansima, pojavili su se kao moćni saveznici u podršci imunitetu i kontroli tjelesne težine.\n",
      "['Protuupalni', 'napici', ',', 'bogati', 'antioksidansima', ',', 'pojavili', 'su', 'se', 'kao', 'moćni', 'saveznici', 'u', 'podršci', 'imunitetu', 'i', 'kontroli', 'tjelesne', 'težine', '.']\n"
     ]
    }
   ],
   "source": [
    "import re\n",
    "\n",
    "def split_sents(txt):\n",
    "    txt = re.sub(r\"([.?!])\\s+\", r\"\\1\\n\", txt)\n",
    "    return txt.split(\"\\n\")\n",
    "\n",
    "def split_tokens(txt):\n",
    "    return re.findall(r\"\\w+|[.!?;:,.\\\"\\'\\(\\)\\[\\]\\{\\}]+\", txt)\n",
    "\n",
    "\n",
    "sents = split_sents(dataset[0][\"content\"])\n",
    "sent = sents[1]\n",
    "print(sent)\n",
    "tokens = split_tokens(sent)\n",
    "print(tokens)\n"
   ]
  },
  {
   "cell_type": "markdown",
   "metadata": {},
   "source": [
    "## Collecting all tokens from scrapped Web pages"
   ]
  },
  {
   "cell_type": "code",
   "execution_count": 99,
   "metadata": {},
   "outputs": [
    {
     "data": {
      "text/plain": [
       "[(',', 3376),\n",
       " ('.', 2454),\n",
       " ('i', 1937),\n",
       " ('je', 1755),\n",
       " ('u', 1506),\n",
       " ('na', 896),\n",
       " ('se', 818),\n",
       " ('za', 636),\n",
       " ('da', 625),\n",
       " ('su', 506),\n",
       " ('a', 479),\n",
       " ('\"', 376),\n",
       " ('od', 352),\n",
       " ('s', 349),\n",
       " ('će', 295),\n",
       " ('koji', 279),\n",
       " ('kako', 255),\n",
       " ('to', 230),\n",
       " ('ne', 229),\n",
       " ('što', 217)]"
      ]
     },
     "execution_count": 99,
     "metadata": {},
     "output_type": "execute_result"
    }
   ],
   "source": [
    "def get_token_freqs(df):\n",
    "    tokens = Counter()\n",
    "    for txt in df.content:\n",
    "        for sent in split_sents(txt.lower()):\n",
    "            tokens.update(split_tokens(sent))\n",
    "    return tokens\n",
    "\n",
    "all_tokens = get_token_freqs(scrap_df)\n",
    "            \n",
    "\n",
    "\n",
    "all_tokens.most_common(20)"
   ]
  },
  {
   "cell_type": "code",
   "execution_count": 100,
   "metadata": {},
   "outputs": [
    {
     "data": {
      "text/plain": [
       "[<matplotlib.lines.Line2D at 0x16568f070>]"
      ]
     },
     "execution_count": 100,
     "metadata": {},
     "output_type": "execute_result"
    },
    {
     "data": {
      "image/png": "[encoded data removed]",
      "text/plain": [
       "<Figure size 640x480 with 1 Axes>"
      ]
     },
     "metadata": {},
     "output_type": "display_data"
    }
   ],
   "source": [
    "import matplotlib.pyplot as plt\n",
    "\n",
    "freqs = [f for _, f in all_tokens.most_common()]\n",
    "\n",
    "plt.yscale(\"log\")\n",
    "plt.plot(sorted(all_tokens.values(), reverse=True))"
   ]
  },
  {
   "cell_type": "markdown",
   "metadata": {},
   "source": [
    "# Some descriptive statistics"
   ]
  },
  {
   "cell_type": "code",
   "execution_count": 101,
   "metadata": {},
   "outputs": [
    {
     "data": {
      "text/plain": [
       "<AxesSubplot: title={'center': 'Number of documents per class'}>"
      ]
     },
     "execution_count": 101,
     "metadata": {},
     "output_type": "execute_result"
    },
    {
     "data": {
      "image/png": "[encoded data removed]",
      "text/plain": [
       "<Figure size 640x480 with 1 Axes>"
      ]
     },
     "metadata": {},
     "output_type": "display_data"
    }
   ],
   "source": [
    "scrap_df.category.value_counts().plot.bar(title=\"Number of documents per class\")"
   ]
  },
  {
   "cell_type": "code",
   "execution_count": 107,
   "metadata": {},
   "outputs": [
    {
     "data": {
      "text/html": [
       "<div>\n",
       "<style scoped>\n",
       "    .dataframe tbody tr th:only-of-type {\n",
       "        vertical-align: middle;\n",
       "    }\n",
       "\n",
       "    .dataframe tbody tr th {\n",
       "        vertical-align: top;\n",
       "    }\n",
       "\n",
       "    .dataframe thead th {\n",
       "        text-align: right;\n",
       "    }\n",
       "</style>\n",
       "<table border=\"1\" class=\"dataframe\">\n",
       "  <thead>\n",
       "    <tr style=\"text-align: right;\">\n",
       "      <th></th>\n",
       "      <th>docs</th>\n",
       "      <th>sents</th>\n",
       "      <th>tokens</th>\n",
       "      <th>unique_tokens</th>\n",
       "    </tr>\n",
       "    <tr>\n",
       "      <th>category</th>\n",
       "      <th></th>\n",
       "      <th></th>\n",
       "      <th></th>\n",
       "      <th></th>\n",
       "    </tr>\n",
       "  </thead>\n",
       "  <tbody>\n",
       "    <tr>\n",
       "      <th>dalmacija</th>\n",
       "      <td>26</td>\n",
       "      <td>769</td>\n",
       "      <td>15475</td>\n",
       "      <td>7422</td>\n",
       "    </tr>\n",
       "    <tr>\n",
       "      <th>dubrovnik</th>\n",
       "      <td>7</td>\n",
       "      <td>203</td>\n",
       "      <td>4116</td>\n",
       "      <td>2270</td>\n",
       "    </tr>\n",
       "    <tr>\n",
       "      <th>kultura</th>\n",
       "      <td>5</td>\n",
       "      <td>59</td>\n",
       "      <td>1737</td>\n",
       "      <td>1093</td>\n",
       "    </tr>\n",
       "    <tr>\n",
       "      <th>mozaik</th>\n",
       "      <td>19</td>\n",
       "      <td>652</td>\n",
       "      <td>10126</td>\n",
       "      <td>5365</td>\n",
       "    </tr>\n",
       "    <tr>\n",
       "      <th>om</th>\n",
       "      <td>2</td>\n",
       "      <td>29</td>\n",
       "      <td>901</td>\n",
       "      <td>554</td>\n",
       "    </tr>\n",
       "    <tr>\n",
       "      <th>scena</th>\n",
       "      <td>11</td>\n",
       "      <td>243</td>\n",
       "      <td>4475</td>\n",
       "      <td>2549</td>\n",
       "    </tr>\n",
       "    <tr>\n",
       "      <th>sibenik</th>\n",
       "      <td>2</td>\n",
       "      <td>17</td>\n",
       "      <td>349</td>\n",
       "      <td>233</td>\n",
       "    </tr>\n",
       "    <tr>\n",
       "      <th>spiza</th>\n",
       "      <td>5</td>\n",
       "      <td>118</td>\n",
       "      <td>2496</td>\n",
       "      <td>1529</td>\n",
       "    </tr>\n",
       "    <tr>\n",
       "      <th>split</th>\n",
       "      <td>15</td>\n",
       "      <td>244</td>\n",
       "      <td>4548</td>\n",
       "      <td>2920</td>\n",
       "    </tr>\n",
       "    <tr>\n",
       "      <th>sport</th>\n",
       "      <td>14</td>\n",
       "      <td>277</td>\n",
       "      <td>5681</td>\n",
       "      <td>3331</td>\n",
       "    </tr>\n",
       "    <tr>\n",
       "      <th>vijesti</th>\n",
       "      <td>17</td>\n",
       "      <td>385</td>\n",
       "      <td>8147</td>\n",
       "      <td>4607</td>\n",
       "    </tr>\n",
       "    <tr>\n",
       "      <th>zadar</th>\n",
       "      <td>3</td>\n",
       "      <td>30</td>\n",
       "      <td>867</td>\n",
       "      <td>541</td>\n",
       "    </tr>\n",
       "  </tbody>\n",
       "</table>\n",
       "</div>"
      ],
      "text/plain": [
       "           docs  sents  tokens  unique_tokens\n",
       "category                                     \n",
       "dalmacija    26    769   15475           7422\n",
       "dubrovnik     7    203    4116           2270\n",
       "kultura       5     59    1737           1093\n",
       "mozaik       19    652   10126           5365\n",
       "om            2     29     901            554\n",
       "scena        11    243    4475           2549\n",
       "sibenik       2     17     349            233\n",
       "spiza         5    118    2496           1529\n",
       "split        15    244    4548           2920\n",
       "sport        14    277    5681           3331\n",
       "vijesti      17    385    8147           4607\n",
       "zadar         3     30     867            541"
      ]
     },
     "execution_count": 107,
     "metadata": {},
     "output_type": "execute_result"
    }
   ],
   "source": [
    "items = {\"category\": [],\n",
    "         \"docs\": [],\n",
    "        \"sents\": [],\n",
    "        \"tokens\": [],\n",
    "        \"unique_tokens\": []}\n",
    "\n",
    "for category, txt in zip(scrap_df.category, df.content):\n",
    "    items[\"category\"].append(category)\n",
    "    items[\"docs\"].append(1)\n",
    "    \n",
    "    sents = split_sents(txt)\n",
    "    items[\"sents\"].append(len(sents))\n",
    "\n",
    "    doc_tokens = []\n",
    "    for sent in sents:\n",
    "        doc_tokens += split_tokens(sent)\n",
    "    items[\"tokens\"].append(len(doc_tokens))\n",
    "    items[\"unique_tokens\"].append(len(set(doc_tokens)))\n",
    "\n",
    "category_df = pd.DataFrame(items)\n",
    "\n",
    "#item_df.groupby(\"category\").sum()\n",
    "category_df = category_df.groupby(\"category\").sum()\n",
    "category_df\n",
    "\n",
    "\n",
    "    \n",
    "\n",
    "\n",
    "    "
   ]
  },
  {
   "cell_type": "code",
   "execution_count": 112,
   "metadata": {},
   "outputs": [
    {
     "data": {
      "text/plain": [
       "<AxesSubplot: title={'center': 'Number of docs, sents, tokens and unique tokens per category'}, xlabel='category'>"
      ]
     },
     "execution_count": 112,
     "metadata": {},
     "output_type": "execute_result"
    },
    {
     "data": {
      "image/png": "[encoded data removed]",
      "text/plain": [
       "<Figure size 1000x600 with 1 Axes>"
      ]
     },
     "metadata": {},
     "output_type": "display_data"
    }
   ],
   "source": [
    "category_df.plot.bar(figsize=(10, 6), title=\"Number of docs, sents, tokens and unique tokens per category\")"
   ]
  },
  {
   "cell_type": "code",
   "execution_count": null,
   "metadata": {},
   "outputs": [],
   "source": []
  }
 ],
 "metadata": {
  "kernelspec": {
   "display_name": "Python 3.9.13 ('nlp')",
   "language": "python",
   "name": "python3"
  },
  "language_info": {
   "codemirror_mode": {
    "name": "ipython",
    "version": 3
   },
   "file_extension": ".py",
   "mimetype": "text/x-python",
   "name": "python",
   "nbconvert_exporter": "python",
   "pygments_lexer": "ipython3",
   "version": "3.9.13"
  },
  "orig_nbformat": 4,
  "vscode": {
   "interpreter": {
    "hash": "358f19b5168dcc2c817c22e8ae2c189228565b53de3b91095ee770a390daccdd"
   }
  }
 },
 "nbformat": 4,
 "nbformat_minor": 2
}
